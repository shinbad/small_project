{
  "nbformat": 4,
  "nbformat_minor": 0,
  "metadata": {
    "colab": {
      "provenance": [],
      "gpuType": "T4",
      "include_colab_link": true
    },
    "kernelspec": {
      "name": "python3",
      "display_name": "Python 3"
    },
    "language_info": {
      "name": "python"
    }
  },
  "cells": [
    {
      "cell_type": "markdown",
      "metadata": {
        "id": "view-in-github",
        "colab_type": "text"
      },
      "source": [
        "<a href=\"https://colab.research.google.com/github/shinbad/small_project/blob/main/AI_project.ipynb\" target=\"_parent\"><img src=\"https://colab.research.google.com/assets/colab-badge.svg\" alt=\"Open In Colab\"/></a>"
      ]
    },
    {
      "cell_type": "code",
      "source": [
        "# 구글 드라이브 마운트\n",
        "from google.colab import drive\n",
        "drive.mount('/content/drive')\n",
        "\n",
        "# 데이터셋 파일이 있는 경로로 이동\n",
        "%cd /content/drive/MyDrive/ColabNotebooks/AI"
      ],
      "metadata": {
        "id": "NkVOPUIPnCyV",
        "colab": {
          "base_uri": "https://localhost:8080/"
        },
        "outputId": "432511a8-00a2-4de4-feab-eba35153b4c0"
      },
      "execution_count": null,
      "outputs": [
        {
          "output_type": "stream",
          "name": "stdout",
          "text": [
            "Drive already mounted at /content/drive; to attempt to forcibly remount, call drive.mount(\"/content/drive\", force_remount=True).\n",
            "/content/drive/MyDrive/ColabNotebooks/AI\n"
          ]
        }
      ]
    },
    {
      "cell_type": "code",
      "source": [
        "# matplotlib 한글 깨짐 현상 해결을 위한 폰트 다운\n",
        "!sudo apt-get install -y fonts-nanum\n",
        "!sudo fc-cache -fv\n",
        "!rm ~/.cache/matplotlib -rf"
      ],
      "metadata": {
        "id": "ObcRKJBPqKy0",
        "colab": {
          "base_uri": "https://localhost:8080/"
        },
        "outputId": "2f761111-dfde-4ce5-9565-ff0dbe9b144d"
      },
      "execution_count": null,
      "outputs": [
        {
          "output_type": "stream",
          "name": "stdout",
          "text": [
            "Reading package lists... Done\n",
            "Building dependency tree... Done\n",
            "Reading state information... Done\n",
            "The following NEW packages will be installed:\n",
            "  fonts-nanum\n",
            "0 upgraded, 1 newly installed, 0 to remove and 29 not upgraded.\n",
            "Need to get 10.3 MB of archives.\n",
            "After this operation, 34.1 MB of additional disk space will be used.\n",
            "Get:1 http://archive.ubuntu.com/ubuntu jammy/universe amd64 fonts-nanum all 20200506-1 [10.3 MB]\n",
            "Fetched 10.3 MB in 1s (7,212 kB/s)\n",
            "debconf: unable to initialize frontend: Dialog\n",
            "debconf: (No usable dialog-like program is installed, so the dialog based frontend cannot be used. at /usr/share/perl5/Debconf/FrontEnd/Dialog.pm line 78, <> line 1.)\n",
            "debconf: falling back to frontend: Readline\n",
            "debconf: unable to initialize frontend: Readline\n",
            "debconf: (This frontend requires a controlling tty.)\n",
            "debconf: falling back to frontend: Teletype\n",
            "dpkg-preconfigure: unable to re-open stdin: \n",
            "Selecting previously unselected package fonts-nanum.\n",
            "(Reading database ... 124947 files and directories currently installed.)\n",
            "Preparing to unpack .../fonts-nanum_20200506-1_all.deb ...\n",
            "Unpacking fonts-nanum (20200506-1) ...\n",
            "Setting up fonts-nanum (20200506-1) ...\n",
            "Processing triggers for fontconfig (2.13.1-4.2ubuntu5) ...\n",
            "/usr/share/fonts: caching, new cache contents: 0 fonts, 1 dirs\n",
            "/usr/share/fonts/truetype: caching, new cache contents: 0 fonts, 3 dirs\n",
            "/usr/share/fonts/truetype/humor-sans: caching, new cache contents: 1 fonts, 0 dirs\n",
            "/usr/share/fonts/truetype/liberation: caching, new cache contents: 16 fonts, 0 dirs\n",
            "/usr/share/fonts/truetype/nanum: caching, new cache contents: 12 fonts, 0 dirs\n",
            "/usr/local/share/fonts: caching, new cache contents: 0 fonts, 0 dirs\n",
            "/root/.local/share/fonts: skipping, no such directory\n",
            "/root/.fonts: skipping, no such directory\n",
            "/usr/share/fonts/truetype: skipping, looped directory detected\n",
            "/usr/share/fonts/truetype/humor-sans: skipping, looped directory detected\n",
            "/usr/share/fonts/truetype/liberation: skipping, looped directory detected\n",
            "/usr/share/fonts/truetype/nanum: skipping, looped directory detected\n",
            "/var/cache/fontconfig: cleaning cache directory\n",
            "/root/.cache/fontconfig: not cleaning non-existent cache directory\n",
            "/root/.fontconfig: not cleaning non-existent cache directory\n",
            "fc-cache: succeeded\n"
          ]
        }
      ]
    },
    {
      "cell_type": "code",
      "source": [
        "import pandas as pd\n",
        "import numpy as np\n",
        "df = pd.read_csv(\"keras_dataset.csv\")\n",
        "df.head()"
      ],
      "metadata": {
        "colab": {
          "base_uri": "https://localhost:8080/",
          "height": 915
        },
        "id": "q20ROF0LkQkR",
        "outputId": "83d89e32-aa45-4376-b884-8caad73272d0"
      },
      "execution_count": null,
      "outputs": [
        {
          "output_type": "execute_result",
          "data": {
            "text/plain": [
              "   작성년월   작성경찰서명   발생건수전체  피해자성별남성  피해자성별여성  피해자성별불상  피해자연령6이하  피해자연령12이하  \\\n",
              "0  2011  서울강남경찰서  21313.0  11875.0   4990.0   4448.0       1.0       19.0   \n",
              "1  2011  서울강동경찰서  13093.0   7087.0   3302.0   2704.0      14.0       47.0   \n",
              "2  2011  서울강북경찰서  11044.0   5906.0   2675.0   2463.0       1.0       37.0   \n",
              "3  2011  서울강서경찰서  17711.0   9550.0   4050.0   4111.0      15.0       48.0   \n",
              "4  2011  서울관악경찰서  15489.0   8568.0   4191.0   2730.0      17.0       39.0   \n",
              "\n",
              "   피해자연령15이하  피해자연령20이하  ...  수사단서정보변사체  수사단서정보현행범  수사단서정보기타  발생요일일요일  \\\n",
              "0       30.0      277.0  ...        5.0     2834.0     956.0   1878.0   \n",
              "1      131.0      392.0  ...        3.0     2440.0     632.0   1612.0   \n",
              "2       81.0      355.0  ...        4.0     2815.0     637.0   1464.0   \n",
              "3      109.0      547.0  ...        4.0     2282.0    1798.0   1932.0   \n",
              "4      103.0      520.0  ...        2.0     2895.0     637.0   1815.0   \n",
              "\n",
              "   발생요일월요일  발생요일화요일  발생요일수요일  발생요일목요일  발생요일금요일  발생요일토요일  \n",
              "0   2973.0   3455.0   3297.0   3408.0   3594.0   2708.0  \n",
              "1   1886.0   1932.0   1925.0   1964.0   2005.0   1769.0  \n",
              "2   1584.0   1596.0   1571.0   1571.0   1671.0   1587.0  \n",
              "3   2603.0   2608.0   2714.0   2711.0   2820.0   2323.0  \n",
              "4   2242.0   2496.0   2136.0   2262.0   2387.0   2151.0  \n",
              "\n",
              "[5 rows x 41 columns]"
            ],
            "text/html": [
              "\n",
              "  <div id=\"df-5d24de46-cc56-411e-b7a0-fdcc31aed0b8\" class=\"colab-df-container\">\n",
              "    <div>\n",
              "<style scoped>\n",
              "    .dataframe tbody tr th:only-of-type {\n",
              "        vertical-align: middle;\n",
              "    }\n",
              "\n",
              "    .dataframe tbody tr th {\n",
              "        vertical-align: top;\n",
              "    }\n",
              "\n",
              "    .dataframe thead th {\n",
              "        text-align: right;\n",
              "    }\n",
              "</style>\n",
              "<table border=\"1\" class=\"dataframe\">\n",
              "  <thead>\n",
              "    <tr style=\"text-align: right;\">\n",
              "      <th></th>\n",
              "      <th>작성년월</th>\n",
              "      <th>작성경찰서명</th>\n",
              "      <th>발생건수전체</th>\n",
              "      <th>피해자성별남성</th>\n",
              "      <th>피해자성별여성</th>\n",
              "      <th>피해자성별불상</th>\n",
              "      <th>피해자연령6이하</th>\n",
              "      <th>피해자연령12이하</th>\n",
              "      <th>피해자연령15이하</th>\n",
              "      <th>피해자연령20이하</th>\n",
              "      <th>...</th>\n",
              "      <th>수사단서정보변사체</th>\n",
              "      <th>수사단서정보현행범</th>\n",
              "      <th>수사단서정보기타</th>\n",
              "      <th>발생요일일요일</th>\n",
              "      <th>발생요일월요일</th>\n",
              "      <th>발생요일화요일</th>\n",
              "      <th>발생요일수요일</th>\n",
              "      <th>발생요일목요일</th>\n",
              "      <th>발생요일금요일</th>\n",
              "      <th>발생요일토요일</th>\n",
              "    </tr>\n",
              "  </thead>\n",
              "  <tbody>\n",
              "    <tr>\n",
              "      <th>0</th>\n",
              "      <td>2011</td>\n",
              "      <td>서울강남경찰서</td>\n",
              "      <td>21313.0</td>\n",
              "      <td>11875.0</td>\n",
              "      <td>4990.0</td>\n",
              "      <td>4448.0</td>\n",
              "      <td>1.0</td>\n",
              "      <td>19.0</td>\n",
              "      <td>30.0</td>\n",
              "      <td>277.0</td>\n",
              "      <td>...</td>\n",
              "      <td>5.0</td>\n",
              "      <td>2834.0</td>\n",
              "      <td>956.0</td>\n",
              "      <td>1878.0</td>\n",
              "      <td>2973.0</td>\n",
              "      <td>3455.0</td>\n",
              "      <td>3297.0</td>\n",
              "      <td>3408.0</td>\n",
              "      <td>3594.0</td>\n",
              "      <td>2708.0</td>\n",
              "    </tr>\n",
              "    <tr>\n",
              "      <th>1</th>\n",
              "      <td>2011</td>\n",
              "      <td>서울강동경찰서</td>\n",
              "      <td>13093.0</td>\n",
              "      <td>7087.0</td>\n",
              "      <td>3302.0</td>\n",
              "      <td>2704.0</td>\n",
              "      <td>14.0</td>\n",
              "      <td>47.0</td>\n",
              "      <td>131.0</td>\n",
              "      <td>392.0</td>\n",
              "      <td>...</td>\n",
              "      <td>3.0</td>\n",
              "      <td>2440.0</td>\n",
              "      <td>632.0</td>\n",
              "      <td>1612.0</td>\n",
              "      <td>1886.0</td>\n",
              "      <td>1932.0</td>\n",
              "      <td>1925.0</td>\n",
              "      <td>1964.0</td>\n",
              "      <td>2005.0</td>\n",
              "      <td>1769.0</td>\n",
              "    </tr>\n",
              "    <tr>\n",
              "      <th>2</th>\n",
              "      <td>2011</td>\n",
              "      <td>서울강북경찰서</td>\n",
              "      <td>11044.0</td>\n",
              "      <td>5906.0</td>\n",
              "      <td>2675.0</td>\n",
              "      <td>2463.0</td>\n",
              "      <td>1.0</td>\n",
              "      <td>37.0</td>\n",
              "      <td>81.0</td>\n",
              "      <td>355.0</td>\n",
              "      <td>...</td>\n",
              "      <td>4.0</td>\n",
              "      <td>2815.0</td>\n",
              "      <td>637.0</td>\n",
              "      <td>1464.0</td>\n",
              "      <td>1584.0</td>\n",
              "      <td>1596.0</td>\n",
              "      <td>1571.0</td>\n",
              "      <td>1571.0</td>\n",
              "      <td>1671.0</td>\n",
              "      <td>1587.0</td>\n",
              "    </tr>\n",
              "    <tr>\n",
              "      <th>3</th>\n",
              "      <td>2011</td>\n",
              "      <td>서울강서경찰서</td>\n",
              "      <td>17711.0</td>\n",
              "      <td>9550.0</td>\n",
              "      <td>4050.0</td>\n",
              "      <td>4111.0</td>\n",
              "      <td>15.0</td>\n",
              "      <td>48.0</td>\n",
              "      <td>109.0</td>\n",
              "      <td>547.0</td>\n",
              "      <td>...</td>\n",
              "      <td>4.0</td>\n",
              "      <td>2282.0</td>\n",
              "      <td>1798.0</td>\n",
              "      <td>1932.0</td>\n",
              "      <td>2603.0</td>\n",
              "      <td>2608.0</td>\n",
              "      <td>2714.0</td>\n",
              "      <td>2711.0</td>\n",
              "      <td>2820.0</td>\n",
              "      <td>2323.0</td>\n",
              "    </tr>\n",
              "    <tr>\n",
              "      <th>4</th>\n",
              "      <td>2011</td>\n",
              "      <td>서울관악경찰서</td>\n",
              "      <td>15489.0</td>\n",
              "      <td>8568.0</td>\n",
              "      <td>4191.0</td>\n",
              "      <td>2730.0</td>\n",
              "      <td>17.0</td>\n",
              "      <td>39.0</td>\n",
              "      <td>103.0</td>\n",
              "      <td>520.0</td>\n",
              "      <td>...</td>\n",
              "      <td>2.0</td>\n",
              "      <td>2895.0</td>\n",
              "      <td>637.0</td>\n",
              "      <td>1815.0</td>\n",
              "      <td>2242.0</td>\n",
              "      <td>2496.0</td>\n",
              "      <td>2136.0</td>\n",
              "      <td>2262.0</td>\n",
              "      <td>2387.0</td>\n",
              "      <td>2151.0</td>\n",
              "    </tr>\n",
              "  </tbody>\n",
              "</table>\n",
              "<p>5 rows × 41 columns</p>\n",
              "</div>\n",
              "    <div class=\"colab-df-buttons\">\n",
              "\n",
              "  <div class=\"colab-df-container\">\n",
              "    <button class=\"colab-df-convert\" onclick=\"convertToInteractive('df-5d24de46-cc56-411e-b7a0-fdcc31aed0b8')\"\n",
              "            title=\"Convert this dataframe to an interactive table.\"\n",
              "            style=\"display:none;\">\n",
              "\n",
              "  <svg xmlns=\"http://www.w3.org/2000/svg\" height=\"24px\" viewBox=\"0 -960 960 960\">\n",
              "    <path d=\"M120-120v-720h720v720H120Zm60-500h600v-160H180v160Zm220 220h160v-160H400v160Zm0 220h160v-160H400v160ZM180-400h160v-160H180v160Zm440 0h160v-160H620v160ZM180-180h160v-160H180v160Zm440 0h160v-160H620v160Z\"/>\n",
              "  </svg>\n",
              "    </button>\n",
              "\n",
              "  <style>\n",
              "    .colab-df-container {\n",
              "      display:flex;\n",
              "      gap: 12px;\n",
              "    }\n",
              "\n",
              "    .colab-df-convert {\n",
              "      background-color: #E8F0FE;\n",
              "      border: none;\n",
              "      border-radius: 50%;\n",
              "      cursor: pointer;\n",
              "      display: none;\n",
              "      fill: #1967D2;\n",
              "      height: 32px;\n",
              "      padding: 0 0 0 0;\n",
              "      width: 32px;\n",
              "    }\n",
              "\n",
              "    .colab-df-convert:hover {\n",
              "      background-color: #E2EBFA;\n",
              "      box-shadow: 0px 1px 2px rgba(60, 64, 67, 0.3), 0px 1px 3px 1px rgba(60, 64, 67, 0.15);\n",
              "      fill: #174EA6;\n",
              "    }\n",
              "\n",
              "    .colab-df-buttons div {\n",
              "      margin-bottom: 4px;\n",
              "    }\n",
              "\n",
              "    [theme=dark] .colab-df-convert {\n",
              "      background-color: #3B4455;\n",
              "      fill: #D2E3FC;\n",
              "    }\n",
              "\n",
              "    [theme=dark] .colab-df-convert:hover {\n",
              "      background-color: #434B5C;\n",
              "      box-shadow: 0px 1px 3px 1px rgba(0, 0, 0, 0.15);\n",
              "      filter: drop-shadow(0px 1px 2px rgba(0, 0, 0, 0.3));\n",
              "      fill: #FFFFFF;\n",
              "    }\n",
              "  </style>\n",
              "\n",
              "    <script>\n",
              "      const buttonEl =\n",
              "        document.querySelector('#df-5d24de46-cc56-411e-b7a0-fdcc31aed0b8 button.colab-df-convert');\n",
              "      buttonEl.style.display =\n",
              "        google.colab.kernel.accessAllowed ? 'block' : 'none';\n",
              "\n",
              "      async function convertToInteractive(key) {\n",
              "        const element = document.querySelector('#df-5d24de46-cc56-411e-b7a0-fdcc31aed0b8');\n",
              "        const dataTable =\n",
              "          await google.colab.kernel.invokeFunction('convertToInteractive',\n",
              "                                                    [key], {});\n",
              "        if (!dataTable) return;\n",
              "\n",
              "        const docLinkHtml = 'Like what you see? Visit the ' +\n",
              "          '<a target=\"_blank\" href=https://colab.research.google.com/notebooks/data_table.ipynb>data table notebook</a>'\n",
              "          + ' to learn more about interactive tables.';\n",
              "        element.innerHTML = '';\n",
              "        dataTable['output_type'] = 'display_data';\n",
              "        await google.colab.output.renderOutput(dataTable, element);\n",
              "        const docLink = document.createElement('div');\n",
              "        docLink.innerHTML = docLinkHtml;\n",
              "        element.appendChild(docLink);\n",
              "      }\n",
              "    </script>\n",
              "  </div>\n",
              "\n",
              "\n",
              "<div id=\"df-ac493cf6-a154-47e7-bd99-a1ccaad5eb89\">\n",
              "  <button class=\"colab-df-quickchart\" onclick=\"quickchart('df-ac493cf6-a154-47e7-bd99-a1ccaad5eb89')\"\n",
              "            title=\"Suggest charts\"\n",
              "            style=\"display:none;\">\n",
              "\n",
              "<svg xmlns=\"http://www.w3.org/2000/svg\" height=\"24px\"viewBox=\"0 0 24 24\"\n",
              "     width=\"24px\">\n",
              "    <g>\n",
              "        <path d=\"M19 3H5c-1.1 0-2 .9-2 2v14c0 1.1.9 2 2 2h14c1.1 0 2-.9 2-2V5c0-1.1-.9-2-2-2zM9 17H7v-7h2v7zm4 0h-2V7h2v10zm4 0h-2v-4h2v4z\"/>\n",
              "    </g>\n",
              "</svg>\n",
              "  </button>\n",
              "\n",
              "<style>\n",
              "  .colab-df-quickchart {\n",
              "      --bg-color: #E8F0FE;\n",
              "      --fill-color: #1967D2;\n",
              "      --hover-bg-color: #E2EBFA;\n",
              "      --hover-fill-color: #174EA6;\n",
              "      --disabled-fill-color: #AAA;\n",
              "      --disabled-bg-color: #DDD;\n",
              "  }\n",
              "\n",
              "  [theme=dark] .colab-df-quickchart {\n",
              "      --bg-color: #3B4455;\n",
              "      --fill-color: #D2E3FC;\n",
              "      --hover-bg-color: #434B5C;\n",
              "      --hover-fill-color: #FFFFFF;\n",
              "      --disabled-bg-color: #3B4455;\n",
              "      --disabled-fill-color: #666;\n",
              "  }\n",
              "\n",
              "  .colab-df-quickchart {\n",
              "    background-color: var(--bg-color);\n",
              "    border: none;\n",
              "    border-radius: 50%;\n",
              "    cursor: pointer;\n",
              "    display: none;\n",
              "    fill: var(--fill-color);\n",
              "    height: 32px;\n",
              "    padding: 0;\n",
              "    width: 32px;\n",
              "  }\n",
              "\n",
              "  .colab-df-quickchart:hover {\n",
              "    background-color: var(--hover-bg-color);\n",
              "    box-shadow: 0 1px 2px rgba(60, 64, 67, 0.3), 0 1px 3px 1px rgba(60, 64, 67, 0.15);\n",
              "    fill: var(--button-hover-fill-color);\n",
              "  }\n",
              "\n",
              "  .colab-df-quickchart-complete:disabled,\n",
              "  .colab-df-quickchart-complete:disabled:hover {\n",
              "    background-color: var(--disabled-bg-color);\n",
              "    fill: var(--disabled-fill-color);\n",
              "    box-shadow: none;\n",
              "  }\n",
              "\n",
              "  .colab-df-spinner {\n",
              "    border: 2px solid var(--fill-color);\n",
              "    border-color: transparent;\n",
              "    border-bottom-color: var(--fill-color);\n",
              "    animation:\n",
              "      spin 1s steps(1) infinite;\n",
              "  }\n",
              "\n",
              "  @keyframes spin {\n",
              "    0% {\n",
              "      border-color: transparent;\n",
              "      border-bottom-color: var(--fill-color);\n",
              "      border-left-color: var(--fill-color);\n",
              "    }\n",
              "    20% {\n",
              "      border-color: transparent;\n",
              "      border-left-color: var(--fill-color);\n",
              "      border-top-color: var(--fill-color);\n",
              "    }\n",
              "    30% {\n",
              "      border-color: transparent;\n",
              "      border-left-color: var(--fill-color);\n",
              "      border-top-color: var(--fill-color);\n",
              "      border-right-color: var(--fill-color);\n",
              "    }\n",
              "    40% {\n",
              "      border-color: transparent;\n",
              "      border-right-color: var(--fill-color);\n",
              "      border-top-color: var(--fill-color);\n",
              "    }\n",
              "    60% {\n",
              "      border-color: transparent;\n",
              "      border-right-color: var(--fill-color);\n",
              "    }\n",
              "    80% {\n",
              "      border-color: transparent;\n",
              "      border-right-color: var(--fill-color);\n",
              "      border-bottom-color: var(--fill-color);\n",
              "    }\n",
              "    90% {\n",
              "      border-color: transparent;\n",
              "      border-bottom-color: var(--fill-color);\n",
              "    }\n",
              "  }\n",
              "</style>\n",
              "\n",
              "  <script>\n",
              "    async function quickchart(key) {\n",
              "      const quickchartButtonEl =\n",
              "        document.querySelector('#' + key + ' button');\n",
              "      quickchartButtonEl.disabled = true;  // To prevent multiple clicks.\n",
              "      quickchartButtonEl.classList.add('colab-df-spinner');\n",
              "      try {\n",
              "        const charts = await google.colab.kernel.invokeFunction(\n",
              "            'suggestCharts', [key], {});\n",
              "      } catch (error) {\n",
              "        console.error('Error during call to suggestCharts:', error);\n",
              "      }\n",
              "      quickchartButtonEl.classList.remove('colab-df-spinner');\n",
              "      quickchartButtonEl.classList.add('colab-df-quickchart-complete');\n",
              "    }\n",
              "    (() => {\n",
              "      let quickchartButtonEl =\n",
              "        document.querySelector('#df-ac493cf6-a154-47e7-bd99-a1ccaad5eb89 button');\n",
              "      quickchartButtonEl.style.display =\n",
              "        google.colab.kernel.accessAllowed ? 'block' : 'none';\n",
              "    })();\n",
              "  </script>\n",
              "</div>\n",
              "\n",
              "    </div>\n",
              "  </div>\n"
            ],
            "application/vnd.google.colaboratory.intrinsic+json": {
              "type": "dataframe",
              "variable_name": "df"
            }
          },
          "metadata": {},
          "execution_count": 2
        }
      ]
    },
    {
      "cell_type": "markdown",
      "source": [
        "#데이터 분석"
      ],
      "metadata": {
        "id": "iM0Uz1SR84Qn"
      }
    },
    {
      "cell_type": "code",
      "source": [
        "df.info()"
      ],
      "metadata": {
        "colab": {
          "base_uri": "https://localhost:8080/"
        },
        "id": "C9A3F0WomA4J",
        "outputId": "7d3f40ea-be43-488a-8fb4-f56cc3cc993a"
      },
      "execution_count": null,
      "outputs": [
        {
          "output_type": "stream",
          "name": "stdout",
          "text": [
            "<class 'pandas.core.frame.DataFrame'>\n",
            "RangeIndex: 282 entries, 0 to 281\n",
            "Data columns (total 41 columns):\n",
            " #   Column       Non-Null Count  Dtype  \n",
            "---  ------       --------------  -----  \n",
            " 0   작성년월         282 non-null    int64  \n",
            " 1   작성경찰서명       282 non-null    object \n",
            " 2   발생건수전체       282 non-null    float64\n",
            " 3   피해자성별남성      282 non-null    float64\n",
            " 4   피해자성별여성      282 non-null    float64\n",
            " 5   피해자성별불상      282 non-null    float64\n",
            " 6   피해자연령6이하     282 non-null    float64\n",
            " 7   피해자연령12이하    282 non-null    float64\n",
            " 8   피해자연령15이하    282 non-null    float64\n",
            " 9   피해자연령20이하    282 non-null    float64\n",
            " 10  피해자연령30이하    282 non-null    float64\n",
            " 11  피해자연령40이하    282 non-null    float64\n",
            " 12  피해자연령50이하    282 non-null    float64\n",
            " 13  피해자연령60이하    282 non-null    float64\n",
            " 14  피해자연령60초과    282 non-null    float64\n",
            " 15  피해자연령건수      282 non-null    float64\n",
            " 16  범죄유형강력       282 non-null    float64\n",
            " 17  범죄유형폭력       282 non-null    float64\n",
            " 18  범죄유형절도       282 non-null    float64\n",
            " 19  범죄유형지능       282 non-null    float64\n",
            " 20  범죄유형기타       282 non-null    float64\n",
            " 21  수사단서정보고발     282 non-null    float64\n",
            " 22  수사단서정보고소     282 non-null    float64\n",
            " 23  수사단서정보진정     282 non-null    float64\n",
            " 24  수사단서정보탄원     282 non-null    float64\n",
            " 25  수사단서정보피해자신고  282 non-null    float64\n",
            " 26  수사단서정보타인신고   282 non-null    float64\n",
            " 27  수사단서정보탐문정보   282 non-null    float64\n",
            " 28  수사단서정보검문     282 non-null    float64\n",
            " 29  수사단서정보자수     282 non-null    float64\n",
            " 30  수사단서정보여죄     282 non-null    float64\n",
            " 31  수사단서정보변사체    282 non-null    float64\n",
            " 32  수사단서정보현행범    282 non-null    float64\n",
            " 33  수사단서정보기타     282 non-null    float64\n",
            " 34  발생요일일요일      282 non-null    float64\n",
            " 35  발생요일월요일      282 non-null    float64\n",
            " 36  발생요일화요일      282 non-null    float64\n",
            " 37  발생요일수요일      282 non-null    float64\n",
            " 38  발생요일목요일      282 non-null    float64\n",
            " 39  발생요일금요일      282 non-null    float64\n",
            " 40  발생요일토요일      282 non-null    float64\n",
            "dtypes: float64(39), int64(1), object(1)\n",
            "memory usage: 90.5+ KB\n"
          ]
        }
      ]
    },
    {
      "cell_type": "code",
      "source": [
        "df['작성경찰서명'].unique()"
      ],
      "metadata": {
        "colab": {
          "base_uri": "https://localhost:8080/"
        },
        "id": "rD4tWyw5mUNs",
        "outputId": "da448121-f7bd-41b0-aeab-b0e284318856"
      },
      "execution_count": null,
      "outputs": [
        {
          "output_type": "execute_result",
          "data": {
            "text/plain": [
              "array(['서울강남경찰서', '서울강동경찰서', '서울강북경찰서', '서울강서경찰서', '서울관악경찰서', '서울광진경찰서',\n",
              "       '서울구로경찰서', '서울금천경찰서', '서울남대문경찰서', '서울노원경찰서', '서울도봉경찰서', '서울동대문경찰서',\n",
              "       '서울동작경찰서', '서울마포경찰서', '서울방배경찰서', '서울서대문경찰서', '서울서부경찰서', '서울서초경찰서',\n",
              "       '서울성동경찰서', '서울성북경찰서', '서울송파경찰서', '서울수서경찰서', '서울양천경찰서', '서울영등포경찰서',\n",
              "       '서울용산경찰서', '서울은평경찰서', '서울종로경찰서', '서울종암경찰서', '서울중랑경찰서', '서울중부경찰서',\n",
              "       '서울지방경찰청', '서울혜화경찰서'], dtype=object)"
            ]
          },
          "metadata": {},
          "execution_count": 4
        }
      ]
    },
    {
      "cell_type": "code",
      "source": [
        "len(df['작성경찰서명'].unique())"
      ],
      "metadata": {
        "colab": {
          "base_uri": "https://localhost:8080/"
        },
        "id": "W5n_d9sFXB26",
        "outputId": "0a2befab-bec7-44a6-8f1c-5d7f10f0c830"
      },
      "execution_count": null,
      "outputs": [
        {
          "output_type": "execute_result",
          "data": {
            "text/plain": [
              "32"
            ]
          },
          "metadata": {},
          "execution_count": 5
        }
      ]
    },
    {
      "cell_type": "code",
      "source": [
        "crime_type = ['범죄유형강력', '범죄유형폭력', '범죄유형절도', '범죄유형지능', '범죄유형기타']\n",
        "df[crime_type].sum()"
      ],
      "metadata": {
        "colab": {
          "base_uri": "https://localhost:8080/",
          "height": 241
        },
        "id": "Bi2RF7Jjmk27",
        "outputId": "0d9d065b-84d4-4bf5-b3ea-b408d0a69c9c"
      },
      "execution_count": null,
      "outputs": [
        {
          "output_type": "execute_result",
          "data": {
            "text/plain": [
              "범죄유형강력      59789.0\n",
              "범죄유형폭력     573239.0\n",
              "범죄유형절도     460302.0\n",
              "범죄유형지능     664986.0\n",
              "범죄유형기타    1318301.0\n",
              "dtype: float64"
            ],
            "text/html": [
              "<div>\n",
              "<style scoped>\n",
              "    .dataframe tbody tr th:only-of-type {\n",
              "        vertical-align: middle;\n",
              "    }\n",
              "\n",
              "    .dataframe tbody tr th {\n",
              "        vertical-align: top;\n",
              "    }\n",
              "\n",
              "    .dataframe thead th {\n",
              "        text-align: right;\n",
              "    }\n",
              "</style>\n",
              "<table border=\"1\" class=\"dataframe\">\n",
              "  <thead>\n",
              "    <tr style=\"text-align: right;\">\n",
              "      <th></th>\n",
              "      <th>0</th>\n",
              "    </tr>\n",
              "  </thead>\n",
              "  <tbody>\n",
              "    <tr>\n",
              "      <th>범죄유형강력</th>\n",
              "      <td>59789.0</td>\n",
              "    </tr>\n",
              "    <tr>\n",
              "      <th>범죄유형폭력</th>\n",
              "      <td>573239.0</td>\n",
              "    </tr>\n",
              "    <tr>\n",
              "      <th>범죄유형절도</th>\n",
              "      <td>460302.0</td>\n",
              "    </tr>\n",
              "    <tr>\n",
              "      <th>범죄유형지능</th>\n",
              "      <td>664986.0</td>\n",
              "    </tr>\n",
              "    <tr>\n",
              "      <th>범죄유형기타</th>\n",
              "      <td>1318301.0</td>\n",
              "    </tr>\n",
              "  </tbody>\n",
              "</table>\n",
              "</div><br><label><b>dtype:</b> float64</label>"
            ]
          },
          "metadata": {},
          "execution_count": 6
        }
      ]
    },
    {
      "cell_type": "code",
      "source": [
        "year_crimes = df.groupby('작성년월').sum()[crime_type]"
      ],
      "metadata": {
        "id": "lIIEFu2kndgz"
      },
      "execution_count": null,
      "outputs": []
    },
    {
      "cell_type": "code",
      "source": [
        "year_crimes"
      ],
      "metadata": {
        "colab": {
          "base_uri": "https://localhost:8080/",
          "height": 363
        },
        "id": "QnDbTxWXxDQN",
        "outputId": "331a9f86-9519-47f1-a9f2-1f6cfeef80da"
      },
      "execution_count": null,
      "outputs": [
        {
          "output_type": "execute_result",
          "data": {
            "text/plain": [
              "      범죄유형강력   범죄유형폭력   범죄유형절도   범죄유형지능    범죄유형기타\n",
              "작성년월                                             \n",
              "2011  6911.0  72020.0  54273.0  71269.0  153994.0\n",
              "2012  6020.0  70514.0  61074.0  72140.0  147971.0\n",
              "2013  6275.0  65421.0  61425.0  76500.0  158648.0\n",
              "2014  6270.0  65313.0  59294.0  72275.0  152571.0\n",
              "2015  6193.0  65232.0  55215.0  73268.0  156405.0\n",
              "2016  6676.0  64592.0  46742.0  72410.0  152338.0\n",
              "2017  7484.0  59392.0  41087.0  70712.0  141200.0\n",
              "2018  6975.0  56028.0  39069.0  75747.0  130685.0\n",
              "2019  6985.0  54727.0  42123.0  80665.0  124489.0"
            ],
            "text/html": [
              "\n",
              "  <div id=\"df-b35c724c-be9b-4f95-b0a7-37688743def7\" class=\"colab-df-container\">\n",
              "    <div>\n",
              "<style scoped>\n",
              "    .dataframe tbody tr th:only-of-type {\n",
              "        vertical-align: middle;\n",
              "    }\n",
              "\n",
              "    .dataframe tbody tr th {\n",
              "        vertical-align: top;\n",
              "    }\n",
              "\n",
              "    .dataframe thead th {\n",
              "        text-align: right;\n",
              "    }\n",
              "</style>\n",
              "<table border=\"1\" class=\"dataframe\">\n",
              "  <thead>\n",
              "    <tr style=\"text-align: right;\">\n",
              "      <th></th>\n",
              "      <th>범죄유형강력</th>\n",
              "      <th>범죄유형폭력</th>\n",
              "      <th>범죄유형절도</th>\n",
              "      <th>범죄유형지능</th>\n",
              "      <th>범죄유형기타</th>\n",
              "    </tr>\n",
              "    <tr>\n",
              "      <th>작성년월</th>\n",
              "      <th></th>\n",
              "      <th></th>\n",
              "      <th></th>\n",
              "      <th></th>\n",
              "      <th></th>\n",
              "    </tr>\n",
              "  </thead>\n",
              "  <tbody>\n",
              "    <tr>\n",
              "      <th>2011</th>\n",
              "      <td>6911.0</td>\n",
              "      <td>72020.0</td>\n",
              "      <td>54273.0</td>\n",
              "      <td>71269.0</td>\n",
              "      <td>153994.0</td>\n",
              "    </tr>\n",
              "    <tr>\n",
              "      <th>2012</th>\n",
              "      <td>6020.0</td>\n",
              "      <td>70514.0</td>\n",
              "      <td>61074.0</td>\n",
              "      <td>72140.0</td>\n",
              "      <td>147971.0</td>\n",
              "    </tr>\n",
              "    <tr>\n",
              "      <th>2013</th>\n",
              "      <td>6275.0</td>\n",
              "      <td>65421.0</td>\n",
              "      <td>61425.0</td>\n",
              "      <td>76500.0</td>\n",
              "      <td>158648.0</td>\n",
              "    </tr>\n",
              "    <tr>\n",
              "      <th>2014</th>\n",
              "      <td>6270.0</td>\n",
              "      <td>65313.0</td>\n",
              "      <td>59294.0</td>\n",
              "      <td>72275.0</td>\n",
              "      <td>152571.0</td>\n",
              "    </tr>\n",
              "    <tr>\n",
              "      <th>2015</th>\n",
              "      <td>6193.0</td>\n",
              "      <td>65232.0</td>\n",
              "      <td>55215.0</td>\n",
              "      <td>73268.0</td>\n",
              "      <td>156405.0</td>\n",
              "    </tr>\n",
              "    <tr>\n",
              "      <th>2016</th>\n",
              "      <td>6676.0</td>\n",
              "      <td>64592.0</td>\n",
              "      <td>46742.0</td>\n",
              "      <td>72410.0</td>\n",
              "      <td>152338.0</td>\n",
              "    </tr>\n",
              "    <tr>\n",
              "      <th>2017</th>\n",
              "      <td>7484.0</td>\n",
              "      <td>59392.0</td>\n",
              "      <td>41087.0</td>\n",
              "      <td>70712.0</td>\n",
              "      <td>141200.0</td>\n",
              "    </tr>\n",
              "    <tr>\n",
              "      <th>2018</th>\n",
              "      <td>6975.0</td>\n",
              "      <td>56028.0</td>\n",
              "      <td>39069.0</td>\n",
              "      <td>75747.0</td>\n",
              "      <td>130685.0</td>\n",
              "    </tr>\n",
              "    <tr>\n",
              "      <th>2019</th>\n",
              "      <td>6985.0</td>\n",
              "      <td>54727.0</td>\n",
              "      <td>42123.0</td>\n",
              "      <td>80665.0</td>\n",
              "      <td>124489.0</td>\n",
              "    </tr>\n",
              "  </tbody>\n",
              "</table>\n",
              "</div>\n",
              "    <div class=\"colab-df-buttons\">\n",
              "\n",
              "  <div class=\"colab-df-container\">\n",
              "    <button class=\"colab-df-convert\" onclick=\"convertToInteractive('df-b35c724c-be9b-4f95-b0a7-37688743def7')\"\n",
              "            title=\"Convert this dataframe to an interactive table.\"\n",
              "            style=\"display:none;\">\n",
              "\n",
              "  <svg xmlns=\"http://www.w3.org/2000/svg\" height=\"24px\" viewBox=\"0 -960 960 960\">\n",
              "    <path d=\"M120-120v-720h720v720H120Zm60-500h600v-160H180v160Zm220 220h160v-160H400v160Zm0 220h160v-160H400v160ZM180-400h160v-160H180v160Zm440 0h160v-160H620v160ZM180-180h160v-160H180v160Zm440 0h160v-160H620v160Z\"/>\n",
              "  </svg>\n",
              "    </button>\n",
              "\n",
              "  <style>\n",
              "    .colab-df-container {\n",
              "      display:flex;\n",
              "      gap: 12px;\n",
              "    }\n",
              "\n",
              "    .colab-df-convert {\n",
              "      background-color: #E8F0FE;\n",
              "      border: none;\n",
              "      border-radius: 50%;\n",
              "      cursor: pointer;\n",
              "      display: none;\n",
              "      fill: #1967D2;\n",
              "      height: 32px;\n",
              "      padding: 0 0 0 0;\n",
              "      width: 32px;\n",
              "    }\n",
              "\n",
              "    .colab-df-convert:hover {\n",
              "      background-color: #E2EBFA;\n",
              "      box-shadow: 0px 1px 2px rgba(60, 64, 67, 0.3), 0px 1px 3px 1px rgba(60, 64, 67, 0.15);\n",
              "      fill: #174EA6;\n",
              "    }\n",
              "\n",
              "    .colab-df-buttons div {\n",
              "      margin-bottom: 4px;\n",
              "    }\n",
              "\n",
              "    [theme=dark] .colab-df-convert {\n",
              "      background-color: #3B4455;\n",
              "      fill: #D2E3FC;\n",
              "    }\n",
              "\n",
              "    [theme=dark] .colab-df-convert:hover {\n",
              "      background-color: #434B5C;\n",
              "      box-shadow: 0px 1px 3px 1px rgba(0, 0, 0, 0.15);\n",
              "      filter: drop-shadow(0px 1px 2px rgba(0, 0, 0, 0.3));\n",
              "      fill: #FFFFFF;\n",
              "    }\n",
              "  </style>\n",
              "\n",
              "    <script>\n",
              "      const buttonEl =\n",
              "        document.querySelector('#df-b35c724c-be9b-4f95-b0a7-37688743def7 button.colab-df-convert');\n",
              "      buttonEl.style.display =\n",
              "        google.colab.kernel.accessAllowed ? 'block' : 'none';\n",
              "\n",
              "      async function convertToInteractive(key) {\n",
              "        const element = document.querySelector('#df-b35c724c-be9b-4f95-b0a7-37688743def7');\n",
              "        const dataTable =\n",
              "          await google.colab.kernel.invokeFunction('convertToInteractive',\n",
              "                                                    [key], {});\n",
              "        if (!dataTable) return;\n",
              "\n",
              "        const docLinkHtml = 'Like what you see? Visit the ' +\n",
              "          '<a target=\"_blank\" href=https://colab.research.google.com/notebooks/data_table.ipynb>data table notebook</a>'\n",
              "          + ' to learn more about interactive tables.';\n",
              "        element.innerHTML = '';\n",
              "        dataTable['output_type'] = 'display_data';\n",
              "        await google.colab.output.renderOutput(dataTable, element);\n",
              "        const docLink = document.createElement('div');\n",
              "        docLink.innerHTML = docLinkHtml;\n",
              "        element.appendChild(docLink);\n",
              "      }\n",
              "    </script>\n",
              "  </div>\n",
              "\n",
              "\n",
              "<div id=\"df-0ba3164f-6a6f-4f76-b7dc-91874f8538ce\">\n",
              "  <button class=\"colab-df-quickchart\" onclick=\"quickchart('df-0ba3164f-6a6f-4f76-b7dc-91874f8538ce')\"\n",
              "            title=\"Suggest charts\"\n",
              "            style=\"display:none;\">\n",
              "\n",
              "<svg xmlns=\"http://www.w3.org/2000/svg\" height=\"24px\"viewBox=\"0 0 24 24\"\n",
              "     width=\"24px\">\n",
              "    <g>\n",
              "        <path d=\"M19 3H5c-1.1 0-2 .9-2 2v14c0 1.1.9 2 2 2h14c1.1 0 2-.9 2-2V5c0-1.1-.9-2-2-2zM9 17H7v-7h2v7zm4 0h-2V7h2v10zm4 0h-2v-4h2v4z\"/>\n",
              "    </g>\n",
              "</svg>\n",
              "  </button>\n",
              "\n",
              "<style>\n",
              "  .colab-df-quickchart {\n",
              "      --bg-color: #E8F0FE;\n",
              "      --fill-color: #1967D2;\n",
              "      --hover-bg-color: #E2EBFA;\n",
              "      --hover-fill-color: #174EA6;\n",
              "      --disabled-fill-color: #AAA;\n",
              "      --disabled-bg-color: #DDD;\n",
              "  }\n",
              "\n",
              "  [theme=dark] .colab-df-quickchart {\n",
              "      --bg-color: #3B4455;\n",
              "      --fill-color: #D2E3FC;\n",
              "      --hover-bg-color: #434B5C;\n",
              "      --hover-fill-color: #FFFFFF;\n",
              "      --disabled-bg-color: #3B4455;\n",
              "      --disabled-fill-color: #666;\n",
              "  }\n",
              "\n",
              "  .colab-df-quickchart {\n",
              "    background-color: var(--bg-color);\n",
              "    border: none;\n",
              "    border-radius: 50%;\n",
              "    cursor: pointer;\n",
              "    display: none;\n",
              "    fill: var(--fill-color);\n",
              "    height: 32px;\n",
              "    padding: 0;\n",
              "    width: 32px;\n",
              "  }\n",
              "\n",
              "  .colab-df-quickchart:hover {\n",
              "    background-color: var(--hover-bg-color);\n",
              "    box-shadow: 0 1px 2px rgba(60, 64, 67, 0.3), 0 1px 3px 1px rgba(60, 64, 67, 0.15);\n",
              "    fill: var(--button-hover-fill-color);\n",
              "  }\n",
              "\n",
              "  .colab-df-quickchart-complete:disabled,\n",
              "  .colab-df-quickchart-complete:disabled:hover {\n",
              "    background-color: var(--disabled-bg-color);\n",
              "    fill: var(--disabled-fill-color);\n",
              "    box-shadow: none;\n",
              "  }\n",
              "\n",
              "  .colab-df-spinner {\n",
              "    border: 2px solid var(--fill-color);\n",
              "    border-color: transparent;\n",
              "    border-bottom-color: var(--fill-color);\n",
              "    animation:\n",
              "      spin 1s steps(1) infinite;\n",
              "  }\n",
              "\n",
              "  @keyframes spin {\n",
              "    0% {\n",
              "      border-color: transparent;\n",
              "      border-bottom-color: var(--fill-color);\n",
              "      border-left-color: var(--fill-color);\n",
              "    }\n",
              "    20% {\n",
              "      border-color: transparent;\n",
              "      border-left-color: var(--fill-color);\n",
              "      border-top-color: var(--fill-color);\n",
              "    }\n",
              "    30% {\n",
              "      border-color: transparent;\n",
              "      border-left-color: var(--fill-color);\n",
              "      border-top-color: var(--fill-color);\n",
              "      border-right-color: var(--fill-color);\n",
              "    }\n",
              "    40% {\n",
              "      border-color: transparent;\n",
              "      border-right-color: var(--fill-color);\n",
              "      border-top-color: var(--fill-color);\n",
              "    }\n",
              "    60% {\n",
              "      border-color: transparent;\n",
              "      border-right-color: var(--fill-color);\n",
              "    }\n",
              "    80% {\n",
              "      border-color: transparent;\n",
              "      border-right-color: var(--fill-color);\n",
              "      border-bottom-color: var(--fill-color);\n",
              "    }\n",
              "    90% {\n",
              "      border-color: transparent;\n",
              "      border-bottom-color: var(--fill-color);\n",
              "    }\n",
              "  }\n",
              "</style>\n",
              "\n",
              "  <script>\n",
              "    async function quickchart(key) {\n",
              "      const quickchartButtonEl =\n",
              "        document.querySelector('#' + key + ' button');\n",
              "      quickchartButtonEl.disabled = true;  // To prevent multiple clicks.\n",
              "      quickchartButtonEl.classList.add('colab-df-spinner');\n",
              "      try {\n",
              "        const charts = await google.colab.kernel.invokeFunction(\n",
              "            'suggestCharts', [key], {});\n",
              "      } catch (error) {\n",
              "        console.error('Error during call to suggestCharts:', error);\n",
              "      }\n",
              "      quickchartButtonEl.classList.remove('colab-df-spinner');\n",
              "      quickchartButtonEl.classList.add('colab-df-quickchart-complete');\n",
              "    }\n",
              "    (() => {\n",
              "      let quickchartButtonEl =\n",
              "        document.querySelector('#df-0ba3164f-6a6f-4f76-b7dc-91874f8538ce button');\n",
              "      quickchartButtonEl.style.display =\n",
              "        google.colab.kernel.accessAllowed ? 'block' : 'none';\n",
              "    })();\n",
              "  </script>\n",
              "</div>\n",
              "\n",
              "  <div id=\"id_27deb8fb-c585-47b5-aec5-6573e021168d\">\n",
              "    <style>\n",
              "      .colab-df-generate {\n",
              "        background-color: #E8F0FE;\n",
              "        border: none;\n",
              "        border-radius: 50%;\n",
              "        cursor: pointer;\n",
              "        display: none;\n",
              "        fill: #1967D2;\n",
              "        height: 32px;\n",
              "        padding: 0 0 0 0;\n",
              "        width: 32px;\n",
              "      }\n",
              "\n",
              "      .colab-df-generate:hover {\n",
              "        background-color: #E2EBFA;\n",
              "        box-shadow: 0px 1px 2px rgba(60, 64, 67, 0.3), 0px 1px 3px 1px rgba(60, 64, 67, 0.15);\n",
              "        fill: #174EA6;\n",
              "      }\n",
              "\n",
              "      [theme=dark] .colab-df-generate {\n",
              "        background-color: #3B4455;\n",
              "        fill: #D2E3FC;\n",
              "      }\n",
              "\n",
              "      [theme=dark] .colab-df-generate:hover {\n",
              "        background-color: #434B5C;\n",
              "        box-shadow: 0px 1px 3px 1px rgba(0, 0, 0, 0.15);\n",
              "        filter: drop-shadow(0px 1px 2px rgba(0, 0, 0, 0.3));\n",
              "        fill: #FFFFFF;\n",
              "      }\n",
              "    </style>\n",
              "    <button class=\"colab-df-generate\" onclick=\"generateWithVariable('year_crimes')\"\n",
              "            title=\"Generate code using this dataframe.\"\n",
              "            style=\"display:none;\">\n",
              "\n",
              "  <svg xmlns=\"http://www.w3.org/2000/svg\" height=\"24px\"viewBox=\"0 0 24 24\"\n",
              "       width=\"24px\">\n",
              "    <path d=\"M7,19H8.4L18.45,9,17,7.55,7,17.6ZM5,21V16.75L18.45,3.32a2,2,0,0,1,2.83,0l1.4,1.43a1.91,1.91,0,0,1,.58,1.4,1.91,1.91,0,0,1-.58,1.4L9.25,21ZM18.45,9,17,7.55Zm-12,3A5.31,5.31,0,0,0,4.9,8.1,5.31,5.31,0,0,0,1,6.5,5.31,5.31,0,0,0,4.9,4.9,5.31,5.31,0,0,0,6.5,1,5.31,5.31,0,0,0,8.1,4.9,5.31,5.31,0,0,0,12,6.5,5.46,5.46,0,0,0,6.5,12Z\"/>\n",
              "  </svg>\n",
              "    </button>\n",
              "    <script>\n",
              "      (() => {\n",
              "      const buttonEl =\n",
              "        document.querySelector('#id_27deb8fb-c585-47b5-aec5-6573e021168d button.colab-df-generate');\n",
              "      buttonEl.style.display =\n",
              "        google.colab.kernel.accessAllowed ? 'block' : 'none';\n",
              "\n",
              "      buttonEl.onclick = () => {\n",
              "        google.colab.notebook.generateWithVariable('year_crimes');\n",
              "      }\n",
              "      })();\n",
              "    </script>\n",
              "  </div>\n",
              "\n",
              "    </div>\n",
              "  </div>\n"
            ],
            "application/vnd.google.colaboratory.intrinsic+json": {
              "type": "dataframe",
              "variable_name": "year_crimes",
              "summary": "{\n  \"name\": \"year_crimes\",\n  \"rows\": 9,\n  \"fields\": [\n    {\n      \"column\": \"\\uc791\\uc131\\ub144\\uc6d4\",\n      \"properties\": {\n        \"dtype\": \"number\",\n        \"std\": 2,\n        \"min\": 2011,\n        \"max\": 2019,\n        \"num_unique_values\": 9,\n        \"samples\": [\n          2018,\n          2012,\n          2016\n        ],\n        \"semantic_type\": \"\",\n        \"description\": \"\"\n      }\n    },\n    {\n      \"column\": \"\\ubc94\\uc8c4\\uc720\\ud615\\uac15\\ub825\",\n      \"properties\": {\n        \"dtype\": \"number\",\n        \"std\": 483.8082724018311,\n        \"min\": 6020.0,\n        \"max\": 7484.0,\n        \"num_unique_values\": 9,\n        \"samples\": [\n          6975.0,\n          6020.0,\n          6676.0\n        ],\n        \"semantic_type\": \"\",\n        \"description\": \"\"\n      }\n    },\n    {\n      \"column\": \"\\ubc94\\uc8c4\\uc720\\ud615\\ud3ed\\ub825\",\n      \"properties\": {\n        \"dtype\": \"number\",\n        \"std\": 5940.24470829649,\n        \"min\": 54727.0,\n        \"max\": 72020.0,\n        \"num_unique_values\": 9,\n        \"samples\": [\n          56028.0,\n          70514.0,\n          64592.0\n        ],\n        \"semantic_type\": \"\",\n        \"description\": \"\"\n      }\n    },\n    {\n      \"column\": \"\\ubc94\\uc8c4\\uc720\\ud615\\uc808\\ub3c4\",\n      \"properties\": {\n        \"dtype\": \"number\",\n        \"std\": 8977.7151742523,\n        \"min\": 39069.0,\n        \"max\": 61425.0,\n        \"num_unique_values\": 9,\n        \"samples\": [\n          39069.0,\n          61074.0,\n          46742.0\n        ],\n        \"semantic_type\": \"\",\n        \"description\": \"\"\n      }\n    },\n    {\n      \"column\": \"\\ubc94\\uc8c4\\uc720\\ud615\\uc9c0\\ub2a5\",\n      \"properties\": {\n        \"dtype\": \"number\",\n        \"std\": 3189.405195330314,\n        \"min\": 70712.0,\n        \"max\": 80665.0,\n        \"num_unique_values\": 9,\n        \"samples\": [\n          75747.0,\n          72140.0,\n          72410.0\n        ],\n        \"semantic_type\": \"\",\n        \"description\": \"\"\n      }\n    },\n    {\n      \"column\": \"\\ubc94\\uc8c4\\uc720\\ud615\\uae30\\ud0c0\",\n      \"properties\": {\n        \"dtype\": \"number\",\n        \"std\": 11924.92157672792,\n        \"min\": 124489.0,\n        \"max\": 158648.0,\n        \"num_unique_values\": 9,\n        \"samples\": [\n          130685.0,\n          147971.0,\n          152338.0\n        ],\n        \"semantic_type\": \"\",\n        \"description\": \"\"\n      }\n    }\n  ]\n}"
            }
          },
          "metadata": {},
          "execution_count": 8
        }
      ]
    },
    {
      "cell_type": "code",
      "source": [
        "year_crimes.sum(axis=1)"
      ],
      "metadata": {
        "colab": {
          "base_uri": "https://localhost:8080/",
          "height": 398
        },
        "id": "Mk875Vrl3tQk",
        "outputId": "19f8f9b2-37b3-4b71-89eb-810e43e338d7"
      },
      "execution_count": null,
      "outputs": [
        {
          "output_type": "execute_result",
          "data": {
            "text/plain": [
              "작성년월\n",
              "2011    358467.0\n",
              "2012    357719.0\n",
              "2013    368269.0\n",
              "2014    355723.0\n",
              "2015    356313.0\n",
              "2016    342758.0\n",
              "2017    319875.0\n",
              "2018    308504.0\n",
              "2019    308989.0\n",
              "dtype: float64"
            ],
            "text/html": [
              "<div>\n",
              "<style scoped>\n",
              "    .dataframe tbody tr th:only-of-type {\n",
              "        vertical-align: middle;\n",
              "    }\n",
              "\n",
              "    .dataframe tbody tr th {\n",
              "        vertical-align: top;\n",
              "    }\n",
              "\n",
              "    .dataframe thead th {\n",
              "        text-align: right;\n",
              "    }\n",
              "</style>\n",
              "<table border=\"1\" class=\"dataframe\">\n",
              "  <thead>\n",
              "    <tr style=\"text-align: right;\">\n",
              "      <th></th>\n",
              "      <th>0</th>\n",
              "    </tr>\n",
              "    <tr>\n",
              "      <th>작성년월</th>\n",
              "      <th></th>\n",
              "    </tr>\n",
              "  </thead>\n",
              "  <tbody>\n",
              "    <tr>\n",
              "      <th>2011</th>\n",
              "      <td>358467.0</td>\n",
              "    </tr>\n",
              "    <tr>\n",
              "      <th>2012</th>\n",
              "      <td>357719.0</td>\n",
              "    </tr>\n",
              "    <tr>\n",
              "      <th>2013</th>\n",
              "      <td>368269.0</td>\n",
              "    </tr>\n",
              "    <tr>\n",
              "      <th>2014</th>\n",
              "      <td>355723.0</td>\n",
              "    </tr>\n",
              "    <tr>\n",
              "      <th>2015</th>\n",
              "      <td>356313.0</td>\n",
              "    </tr>\n",
              "    <tr>\n",
              "      <th>2016</th>\n",
              "      <td>342758.0</td>\n",
              "    </tr>\n",
              "    <tr>\n",
              "      <th>2017</th>\n",
              "      <td>319875.0</td>\n",
              "    </tr>\n",
              "    <tr>\n",
              "      <th>2018</th>\n",
              "      <td>308504.0</td>\n",
              "    </tr>\n",
              "    <tr>\n",
              "      <th>2019</th>\n",
              "      <td>308989.0</td>\n",
              "    </tr>\n",
              "  </tbody>\n",
              "</table>\n",
              "</div><br><label><b>dtype:</b> float64</label>"
            ]
          },
          "metadata": {},
          "execution_count": 9
        }
      ]
    },
    {
      "cell_type": "code",
      "source": [
        "import matplotlib.pyplot as plt\n",
        "\n",
        "years = list(df['작성년월'].unique())\n",
        "\n",
        "plt.figure(figsize=(10,5))\n",
        "plt.bar(range(len(years)), year_crimes.sum(axis=1), color='dodgerblue')\n",
        "\n",
        "plt.title(\"Number of crimes by year\")          #차트 제목\n",
        "plt.ylabel('crimes number')                #y축 라벨\n",
        "\n",
        "plt.xticks(range(len(years)), years) #x축에 틱을 붙임.\n",
        "plt.show()"
      ],
      "metadata": {
        "colab": {
          "base_uri": "https://localhost:8080/",
          "height": 447
        },
        "id": "t9MKVyhn4f3p",
        "outputId": "438db3c9-53a4-49b5-ddd5-390edd8a119a"
      },
      "execution_count": null,
      "outputs": [
        {
          "output_type": "display_data",
          "data": {
            "text/plain": [
              "<Figure size 1000x500 with 1 Axes>"
            ],
            "image/png": "[encoded data removed]"
          },
          "metadata": {}
        }
      ]
    },
    {
      "cell_type": "code",
      "source": [
        "import matplotlib.font_manager as fm\n",
        "fm.fontManager.ttflist\n",
        "[f.name for f in fm.fontManager.ttflist]"
      ],
      "metadata": {
        "id": "JHUF8wqRvhGX"
      },
      "execution_count": null,
      "outputs": []
    },
    {
      "cell_type": "code",
      "source": [
        "import seaborn as sns\n",
        "idx = np.arange(len(years))\n",
        "w = 0.15\n",
        "crimes = [\n",
        "    ('범죄유형강력', '강력', -2),\n",
        "    ('범죄유형폭력', '폭력', -1),\n",
        "    ('범죄유형절도', '절도',  0),\n",
        "    ('범죄유형지능', '지능',  1),\n",
        "    ('범죄유형기타', '기타', 2)\n",
        "]\n",
        "colors = ['k', '#e35f62', 'dodgerblue', 'limegreen', 'gold']\n",
        "i=0\n",
        "\n",
        "plt.rc('font', family='NanumBarunGothic')\n",
        "plt.figure(figsize=(15,5))\n",
        "for key, label, offset in crimes:\n",
        "  plt.bar(idx + offset * w, year_crimes[key], width=w, label=label, color=colors[i])\n",
        "  i+=1\n",
        "\n",
        "plt.title(\"Number of crimes by year\")          #차트 제목\n",
        "plt.ylabel('crimes number')                #y축 라벨\n",
        "\n",
        "plt.xticks(idx, years) #x축에 틱을 붙임.\n",
        "plt.legend(ncol = 5)\n",
        "plt.show()"
      ],
      "metadata": {
        "colab": {
          "base_uri": "https://localhost:8080/",
          "height": 315
        },
        "id": "QbF856cnqUas",
        "outputId": "53333de2-0ca7-4bdb-e7c9-ff4e0c3ada03"
      },
      "execution_count": null,
      "outputs": [
        {
          "output_type": "display_data",
          "data": {
            "text/plain": [
              "<Figure size 1500x500 with 1 Axes>"
            ],
            "image/png": "[encoded data removed]"
          },
          "metadata": {}
        }
      ]
    },
    {
      "cell_type": "code",
      "source": [
        "gender_crimes = df[['피해자성별남성','피해자성별여성']].sum()"
      ],
      "metadata": {
        "id": "9OzLH3X7_Go-"
      },
      "execution_count": null,
      "outputs": []
    },
    {
      "cell_type": "code",
      "source": [
        "gender_crimes"
      ],
      "metadata": {
        "colab": {
          "base_uri": "https://localhost:8080/",
          "height": 147
        },
        "id": "I5iS9TU7_d40",
        "outputId": "4063537a-1bcd-4de7-a3e3-f949cba256ea"
      },
      "execution_count": null,
      "outputs": [
        {
          "output_type": "execute_result",
          "data": {
            "text/plain": [
              "피해자성별남성    1536763.0\n",
              "피해자성별여성     824603.0\n",
              "dtype: float64"
            ],
            "text/html": [
              "<div>\n",
              "<style scoped>\n",
              "    .dataframe tbody tr th:only-of-type {\n",
              "        vertical-align: middle;\n",
              "    }\n",
              "\n",
              "    .dataframe tbody tr th {\n",
              "        vertical-align: top;\n",
              "    }\n",
              "\n",
              "    .dataframe thead th {\n",
              "        text-align: right;\n",
              "    }\n",
              "</style>\n",
              "<table border=\"1\" class=\"dataframe\">\n",
              "  <thead>\n",
              "    <tr style=\"text-align: right;\">\n",
              "      <th></th>\n",
              "      <th>0</th>\n",
              "    </tr>\n",
              "  </thead>\n",
              "  <tbody>\n",
              "    <tr>\n",
              "      <th>피해자성별남성</th>\n",
              "      <td>1536763.0</td>\n",
              "    </tr>\n",
              "    <tr>\n",
              "      <th>피해자성별여성</th>\n",
              "      <td>824603.0</td>\n",
              "    </tr>\n",
              "  </tbody>\n",
              "</table>\n",
              "</div><br><label><b>dtype:</b> float64</label>"
            ]
          },
          "metadata": {},
          "execution_count": 25
        }
      ]
    },
    {
      "cell_type": "code",
      "source": [
        "fig,ax = plt.subplots(figsize=(8,6))\n",
        "\n",
        "ax.pie(gender_crimes,labels=['male', 'female'], autopct='%1.1f%%',startangle=110, labeldistance=1.1, colors=['skyblue', 'pink'], explode = [0.03, 0.03],  wedgeprops={'width': 0.7, 'edgecolor': 'w', 'linewidth': 5})\n",
        "ax.axis('equal')\n",
        "\n",
        "plt.title('gender')\n",
        "plt.legend()\n",
        "plt.show()"
      ],
      "metadata": {
        "colab": {
          "base_uri": "https://localhost:8080/",
          "height": 520
        },
        "id": "ZM2Lt8M69AcZ",
        "outputId": "706a9eeb-432c-4d49-9a63-a4dd88dc62d5"
      },
      "execution_count": null,
      "outputs": [
        {
          "output_type": "display_data",
          "data": {
            "text/plain": [
              "<Figure size 800x600 with 1 Axes>"
            ],
            "image/png": "[encoded data removed]"
          },
          "metadata": {}
        }
      ]
    },
    {
      "cell_type": "markdown",
      "source": [
        "# 데이터 정제"
      ],
      "metadata": {
        "id": "D1NQYJtc8yNG"
      }
    },
    {
      "cell_type": "code",
      "source": [
        "df.isnull().sum()"
      ],
      "metadata": {
        "colab": {
          "base_uri": "https://localhost:8080/",
          "height": 1000
        },
        "id": "_qtbaqey8w4f",
        "outputId": "b6e6988f-d1cb-4ff1-a78e-d6950a4b4d81"
      },
      "execution_count": null,
      "outputs": [
        {
          "output_type": "execute_result",
          "data": {
            "text/plain": [
              "작성년월           0\n",
              "작성경찰서명         0\n",
              "발생건수전체         0\n",
              "피해자성별남성        0\n",
              "피해자성별여성        0\n",
              "피해자성별불상        0\n",
              "피해자연령6이하       0\n",
              "피해자연령12이하      0\n",
              "피해자연령15이하      0\n",
              "피해자연령20이하      0\n",
              "피해자연령30이하      0\n",
              "피해자연령40이하      0\n",
              "피해자연령50이하      0\n",
              "피해자연령60이하      0\n",
              "피해자연령60초과      0\n",
              "피해자연령건수        0\n",
              "범죄유형강력         0\n",
              "범죄유형폭력         0\n",
              "범죄유형절도         0\n",
              "범죄유형지능         0\n",
              "범죄유형기타         0\n",
              "수사단서정보고발       0\n",
              "수사단서정보고소       0\n",
              "수사단서정보진정       0\n",
              "수사단서정보탄원       0\n",
              "수사단서정보피해자신고    0\n",
              "수사단서정보타인신고     0\n",
              "수사단서정보탐문정보     0\n",
              "수사단서정보검문       0\n",
              "수사단서정보자수       0\n",
              "수사단서정보여죄       0\n",
              "수사단서정보변사체      0\n",
              "수사단서정보현행범      0\n",
              "수사단서정보기타       0\n",
              "발생요일일요일        0\n",
              "발생요일월요일        0\n",
              "발생요일화요일        0\n",
              "발생요일수요일        0\n",
              "발생요일목요일        0\n",
              "발생요일금요일        0\n",
              "발생요일토요일        0\n",
              "dtype: int64"
            ],
            "text/html": [
              "<div>\n",
              "<style scoped>\n",
              "    .dataframe tbody tr th:only-of-type {\n",
              "        vertical-align: middle;\n",
              "    }\n",
              "\n",
              "    .dataframe tbody tr th {\n",
              "        vertical-align: top;\n",
              "    }\n",
              "\n",
              "    .dataframe thead th {\n",
              "        text-align: right;\n",
              "    }\n",
              "</style>\n",
              "<table border=\"1\" class=\"dataframe\">\n",
              "  <thead>\n",
              "    <tr style=\"text-align: right;\">\n",
              "      <th></th>\n",
              "      <th>0</th>\n",
              "    </tr>\n",
              "  </thead>\n",
              "  <tbody>\n",
              "    <tr>\n",
              "      <th>작성년월</th>\n",
              "      <td>0</td>\n",
              "    </tr>\n",
              "    <tr>\n",
              "      <th>작성경찰서명</th>\n",
              "      <td>0</td>\n",
              "    </tr>\n",
              "    <tr>\n",
              "      <th>발생건수전체</th>\n",
              "      <td>0</td>\n",
              "    </tr>\n",
              "    <tr>\n",
              "      <th>피해자성별남성</th>\n",
              "      <td>0</td>\n",
              "    </tr>\n",
              "    <tr>\n",
              "      <th>피해자성별여성</th>\n",
              "      <td>0</td>\n",
              "    </tr>\n",
              "    <tr>\n",
              "      <th>피해자성별불상</th>\n",
              "      <td>0</td>\n",
              "    </tr>\n",
              "    <tr>\n",
              "      <th>피해자연령6이하</th>\n",
              "      <td>0</td>\n",
              "    </tr>\n",
              "    <tr>\n",
              "      <th>피해자연령12이하</th>\n",
              "      <td>0</td>\n",
              "    </tr>\n",
              "    <tr>\n",
              "      <th>피해자연령15이하</th>\n",
              "      <td>0</td>\n",
              "    </tr>\n",
              "    <tr>\n",
              "      <th>피해자연령20이하</th>\n",
              "      <td>0</td>\n",
              "    </tr>\n",
              "    <tr>\n",
              "      <th>피해자연령30이하</th>\n",
              "      <td>0</td>\n",
              "    </tr>\n",
              "    <tr>\n",
              "      <th>피해자연령40이하</th>\n",
              "      <td>0</td>\n",
              "    </tr>\n",
              "    <tr>\n",
              "      <th>피해자연령50이하</th>\n",
              "      <td>0</td>\n",
              "    </tr>\n",
              "    <tr>\n",
              "      <th>피해자연령60이하</th>\n",
              "      <td>0</td>\n",
              "    </tr>\n",
              "    <tr>\n",
              "      <th>피해자연령60초과</th>\n",
              "      <td>0</td>\n",
              "    </tr>\n",
              "    <tr>\n",
              "      <th>피해자연령건수</th>\n",
              "      <td>0</td>\n",
              "    </tr>\n",
              "    <tr>\n",
              "      <th>범죄유형강력</th>\n",
              "      <td>0</td>\n",
              "    </tr>\n",
              "    <tr>\n",
              "      <th>범죄유형폭력</th>\n",
              "      <td>0</td>\n",
              "    </tr>\n",
              "    <tr>\n",
              "      <th>범죄유형절도</th>\n",
              "      <td>0</td>\n",
              "    </tr>\n",
              "    <tr>\n",
              "      <th>범죄유형지능</th>\n",
              "      <td>0</td>\n",
              "    </tr>\n",
              "    <tr>\n",
              "      <th>범죄유형기타</th>\n",
              "      <td>0</td>\n",
              "    </tr>\n",
              "    <tr>\n",
              "      <th>수사단서정보고발</th>\n",
              "      <td>0</td>\n",
              "    </tr>\n",
              "    <tr>\n",
              "      <th>수사단서정보고소</th>\n",
              "      <td>0</td>\n",
              "    </tr>\n",
              "    <tr>\n",
              "      <th>수사단서정보진정</th>\n",
              "      <td>0</td>\n",
              "    </tr>\n",
              "    <tr>\n",
              "      <th>수사단서정보탄원</th>\n",
              "      <td>0</td>\n",
              "    </tr>\n",
              "    <tr>\n",
              "      <th>수사단서정보피해자신고</th>\n",
              "      <td>0</td>\n",
              "    </tr>\n",
              "    <tr>\n",
              "      <th>수사단서정보타인신고</th>\n",
              "      <td>0</td>\n",
              "    </tr>\n",
              "    <tr>\n",
              "      <th>수사단서정보탐문정보</th>\n",
              "      <td>0</td>\n",
              "    </tr>\n",
              "    <tr>\n",
              "      <th>수사단서정보검문</th>\n",
              "      <td>0</td>\n",
              "    </tr>\n",
              "    <tr>\n",
              "      <th>수사단서정보자수</th>\n",
              "      <td>0</td>\n",
              "    </tr>\n",
              "    <tr>\n",
              "      <th>수사단서정보여죄</th>\n",
              "      <td>0</td>\n",
              "    </tr>\n",
              "    <tr>\n",
              "      <th>수사단서정보변사체</th>\n",
              "      <td>0</td>\n",
              "    </tr>\n",
              "    <tr>\n",
              "      <th>수사단서정보현행범</th>\n",
              "      <td>0</td>\n",
              "    </tr>\n",
              "    <tr>\n",
              "      <th>수사단서정보기타</th>\n",
              "      <td>0</td>\n",
              "    </tr>\n",
              "    <tr>\n",
              "      <th>발생요일일요일</th>\n",
              "      <td>0</td>\n",
              "    </tr>\n",
              "    <tr>\n",
              "      <th>발생요일월요일</th>\n",
              "      <td>0</td>\n",
              "    </tr>\n",
              "    <tr>\n",
              "      <th>발생요일화요일</th>\n",
              "      <td>0</td>\n",
              "    </tr>\n",
              "    <tr>\n",
              "      <th>발생요일수요일</th>\n",
              "      <td>0</td>\n",
              "    </tr>\n",
              "    <tr>\n",
              "      <th>발생요일목요일</th>\n",
              "      <td>0</td>\n",
              "    </tr>\n",
              "    <tr>\n",
              "      <th>발생요일금요일</th>\n",
              "      <td>0</td>\n",
              "    </tr>\n",
              "    <tr>\n",
              "      <th>발생요일토요일</th>\n",
              "      <td>0</td>\n",
              "    </tr>\n",
              "  </tbody>\n",
              "</table>\n",
              "</div><br><label><b>dtype:</b> int64</label>"
            ]
          },
          "metadata": {},
          "execution_count": 20
        }
      ]
    },
    {
      "cell_type": "code",
      "source": [
        "df[df.duplicated()]"
      ],
      "metadata": {
        "colab": {
          "base_uri": "https://localhost:8080/",
          "height": 113
        },
        "id": "WCt7RkVXCOw8",
        "outputId": "3d9afe2a-80cc-45ed-a345-1f259f38fefd"
      },
      "execution_count": null,
      "outputs": [
        {
          "output_type": "execute_result",
          "data": {
            "text/plain": [
              "Empty DataFrame\n",
              "Columns: [작성년월, 작성경찰서명, 발생건수전체, 피해자성별남성, 피해자성별여성, 피해자성별불상, 피해자연령6이하, 피해자연령12이하, 피해자연령15이하, 피해자연령20이하, 피해자연령30이하, 피해자연령40이하, 피해자연령50이하, 피해자연령60이하, 피해자연령60초과, 피해자연령건수, 범죄유형강력, 범죄유형폭력, 범죄유형절도, 범죄유형지능, 범죄유형기타, 수사단서정보고발, 수사단서정보고소, 수사단서정보진정, 수사단서정보탄원, 수사단서정보피해자신고, 수사단서정보타인신고, 수사단서정보탐문정보, 수사단서정보검문, 수사단서정보자수, 수사단서정보여죄, 수사단서정보변사체, 수사단서정보현행범, 수사단서정보기타, 발생요일일요일, 발생요일월요일, 발생요일화요일, 발생요일수요일, 발생요일목요일, 발생요일금요일, 발생요일토요일]\n",
              "Index: []\n",
              "\n",
              "[0 rows x 41 columns]"
            ],
            "text/html": [
              "\n",
              "  <div id=\"df-0b559e39-9043-45ef-bfb6-0270735554d7\" class=\"colab-df-container\">\n",
              "    <div>\n",
              "<style scoped>\n",
              "    .dataframe tbody tr th:only-of-type {\n",
              "        vertical-align: middle;\n",
              "    }\n",
              "\n",
              "    .dataframe tbody tr th {\n",
              "        vertical-align: top;\n",
              "    }\n",
              "\n",
              "    .dataframe thead th {\n",
              "        text-align: right;\n",
              "    }\n",
              "</style>\n",
              "<table border=\"1\" class=\"dataframe\">\n",
              "  <thead>\n",
              "    <tr style=\"text-align: right;\">\n",
              "      <th></th>\n",
              "      <th>작성년월</th>\n",
              "      <th>작성경찰서명</th>\n",
              "      <th>발생건수전체</th>\n",
              "      <th>피해자성별남성</th>\n",
              "      <th>피해자성별여성</th>\n",
              "      <th>피해자성별불상</th>\n",
              "      <th>피해자연령6이하</th>\n",
              "      <th>피해자연령12이하</th>\n",
              "      <th>피해자연령15이하</th>\n",
              "      <th>피해자연령20이하</th>\n",
              "      <th>...</th>\n",
              "      <th>수사단서정보변사체</th>\n",
              "      <th>수사단서정보현행범</th>\n",
              "      <th>수사단서정보기타</th>\n",
              "      <th>발생요일일요일</th>\n",
              "      <th>발생요일월요일</th>\n",
              "      <th>발생요일화요일</th>\n",
              "      <th>발생요일수요일</th>\n",
              "      <th>발생요일목요일</th>\n",
              "      <th>발생요일금요일</th>\n",
              "      <th>발생요일토요일</th>\n",
              "    </tr>\n",
              "  </thead>\n",
              "  <tbody>\n",
              "  </tbody>\n",
              "</table>\n",
              "<p>0 rows × 41 columns</p>\n",
              "</div>\n",
              "    <div class=\"colab-df-buttons\">\n",
              "\n",
              "  <div class=\"colab-df-container\">\n",
              "    <button class=\"colab-df-convert\" onclick=\"convertToInteractive('df-0b559e39-9043-45ef-bfb6-0270735554d7')\"\n",
              "            title=\"Convert this dataframe to an interactive table.\"\n",
              "            style=\"display:none;\">\n",
              "\n",
              "  <svg xmlns=\"http://www.w3.org/2000/svg\" height=\"24px\" viewBox=\"0 -960 960 960\">\n",
              "    <path d=\"M120-120v-720h720v720H120Zm60-500h600v-160H180v160Zm220 220h160v-160H400v160Zm0 220h160v-160H400v160ZM180-400h160v-160H180v160Zm440 0h160v-160H620v160ZM180-180h160v-160H180v160Zm440 0h160v-160H620v160Z\"/>\n",
              "  </svg>\n",
              "    </button>\n",
              "\n",
              "  <style>\n",
              "    .colab-df-container {\n",
              "      display:flex;\n",
              "      gap: 12px;\n",
              "    }\n",
              "\n",
              "    .colab-df-convert {\n",
              "      background-color: #E8F0FE;\n",
              "      border: none;\n",
              "      border-radius: 50%;\n",
              "      cursor: pointer;\n",
              "      display: none;\n",
              "      fill: #1967D2;\n",
              "      height: 32px;\n",
              "      padding: 0 0 0 0;\n",
              "      width: 32px;\n",
              "    }\n",
              "\n",
              "    .colab-df-convert:hover {\n",
              "      background-color: #E2EBFA;\n",
              "      box-shadow: 0px 1px 2px rgba(60, 64, 67, 0.3), 0px 1px 3px 1px rgba(60, 64, 67, 0.15);\n",
              "      fill: #174EA6;\n",
              "    }\n",
              "\n",
              "    .colab-df-buttons div {\n",
              "      margin-bottom: 4px;\n",
              "    }\n",
              "\n",
              "    [theme=dark] .colab-df-convert {\n",
              "      background-color: #3B4455;\n",
              "      fill: #D2E3FC;\n",
              "    }\n",
              "\n",
              "    [theme=dark] .colab-df-convert:hover {\n",
              "      background-color: #434B5C;\n",
              "      box-shadow: 0px 1px 3px 1px rgba(0, 0, 0, 0.15);\n",
              "      filter: drop-shadow(0px 1px 2px rgba(0, 0, 0, 0.3));\n",
              "      fill: #FFFFFF;\n",
              "    }\n",
              "  </style>\n",
              "\n",
              "    <script>\n",
              "      const buttonEl =\n",
              "        document.querySelector('#df-0b559e39-9043-45ef-bfb6-0270735554d7 button.colab-df-convert');\n",
              "      buttonEl.style.display =\n",
              "        google.colab.kernel.accessAllowed ? 'block' : 'none';\n",
              "\n",
              "      async function convertToInteractive(key) {\n",
              "        const element = document.querySelector('#df-0b559e39-9043-45ef-bfb6-0270735554d7');\n",
              "        const dataTable =\n",
              "          await google.colab.kernel.invokeFunction('convertToInteractive',\n",
              "                                                    [key], {});\n",
              "        if (!dataTable) return;\n",
              "\n",
              "        const docLinkHtml = 'Like what you see? Visit the ' +\n",
              "          '<a target=\"_blank\" href=https://colab.research.google.com/notebooks/data_table.ipynb>data table notebook</a>'\n",
              "          + ' to learn more about interactive tables.';\n",
              "        element.innerHTML = '';\n",
              "        dataTable['output_type'] = 'display_data';\n",
              "        await google.colab.output.renderOutput(dataTable, element);\n",
              "        const docLink = document.createElement('div');\n",
              "        docLink.innerHTML = docLinkHtml;\n",
              "        element.appendChild(docLink);\n",
              "      }\n",
              "    </script>\n",
              "  </div>\n",
              "\n",
              "\n",
              "    </div>\n",
              "  </div>\n"
            ],
            "application/vnd.google.colaboratory.intrinsic+json": {
              "type": "dataframe"
            }
          },
          "metadata": {},
          "execution_count": 21
        }
      ]
    },
    {
      "cell_type": "markdown",
      "source": [
        "# 23개 커럼 사용\n",
        "| 작성년월 | 작성경찰서명 | 발생건수전체 |\n",
        "| --- | --- | --- |\n",
        "| 피해자성별남성 | 피해자성별여성 | 피해자성별불상 |\n",
        "| 피해자연령6이하 | 피해자연령12이하 | 피해자연령15이하 |\n",
        "| 피해자연령20이하 | 피해자연령30이하 | 피해자연령40이하 |\n",
        "| 피해자연령50이하 | 피해자연령60이하 | 피해자연령60초과 |\n",
        "| 피해자연령건수 | 발생요일일요일 | 발생요일월요일 |\n",
        "| 발생요일화요일 | 발생요일수요일 | 발생요일목요일 |\n",
        "| 발생요일금요일 | 발생요일토요일 |  |"
      ],
      "metadata": {
        "id": "VejMhvI7la0-"
      }
    },
    {
      "cell_type": "code",
      "source": [
        "#필요 라이브러리 호출\n",
        "from sklearn.model_selection import train_test_split\n",
        "from sklearn.preprocessing import LabelEncoder\n",
        "from tensorflow import keras\n",
        "import pandas as pd\n",
        "from sklearn import preprocessing\n",
        "\n",
        "#데이터 전처리\n",
        "def Data_func():\n",
        "  train = pd.read_csv(\"keras_dataset_remaster.csv\") #칼럼 정리와 결측값과 중복값 제거된 데이터셋\n",
        "  le2=LabelEncoder()\n",
        "  data = train.drop('작성경찰서명', axis=1).values\n",
        "  target = le2.fit_transform(train['작성경찰서명'].values)  # Label Encoding\n",
        "  X_train, X_test, y_train, y_test = train_test_split(data, target, test_size=0.25, stratify=target, random_state=2018)\n",
        "\n",
        "  #MinMaxScaler 함수를 통한 데이터셋 정규화\n",
        "  scaler = preprocessing.MinMaxScaler()\n",
        "  X_train = scaler.fit_transform(X_train)\n",
        "  X_test = scaler.transform(X_test)\n",
        "\n",
        "  return (X_train, y_train),(X_test, y_test)"
      ],
      "metadata": {
        "id": "P9kfu3i9vFrK"
      },
      "execution_count": null,
      "outputs": []
    },
    {
      "cell_type": "code",
      "source": [
        "#필요 라이브러리 호출\n",
        "import matplotlib.pyplot as plt\n",
        "import numpy as np\n",
        "from sklearn.ensemble import RandomForestClassifier\n",
        "from sklearn.metrics import log_loss\n",
        "import math\n",
        "import tensorflow as tf\n",
        "(X_train, Y_train), (X_test, Y_test) = Data_func()\n",
        "\n",
        "# RandomForest 모델로 학습\n",
        "# 하이퍼파라미터 튜닝 전\n",
        "rf_test = RandomForestClassifier(random_state=2, n_jobs=-1)\n",
        "rf_test.fit(X_train, Y_train)\n",
        "\n",
        "# train 데이터의 정확도\n",
        "train_score=rf_test.score(X_train, Y_train)\n",
        "print('Train_Score : {}'.format(train_score))\n",
        "\n",
        "# test 데이터의 정확도\n",
        "test_score=rf_test.score(X_test, Y_test)\n",
        "print('Test_Score : {}'.format(test_score))"
      ],
      "metadata": {
        "id": "fDmtV2yMibWl",
        "colab": {
          "base_uri": "https://localhost:8080/"
        },
        "outputId": "ea6c1a4c-ece8-40f2-980c-55f4512ab644"
      },
      "execution_count": null,
      "outputs": [
        {
          "output_type": "stream",
          "name": "stdout",
          "text": [
            "Train_Score : 1.0\n",
            "Test_Score : 0.6338028169014085\n"
          ]
        }
      ]
    },
    {
      "cell_type": "markdown",
      "source": [
        "## 하이퍼파라미터\n",
        "- max_depth: 깊이가 깊어지면 과적합될 수 있으므로 적절히 제어 필요\n",
        "- max_features: 최적의 분할을 위해 고려할 최대 feature 개수\n",
        "- min_samples_split: 작게 설정할 수록 분할 노드가 많아져 과적합 가능성 증가\n",
        "- n_estimators: 결정 트리의 개수를 지정: 개수를 늘리면 성능이 좋아지는 것에 비해 시간이 걸린다.\n"
      ],
      "metadata": {
        "id": "Q_-vl4GL1Nzs"
      }
    },
    {
      "cell_type": "code",
      "source": [
        "# RandomForest 모델로 학습\n",
        "# 하이퍼파라미터 튜닝 전\n",
        "rf_run = RandomForestClassifier(random_state=2, max_depth= 5, max_features = 30, min_samples_split=17, n_estimators=120, n_jobs=-1)\n",
        "rf_run.fit(X_train, Y_train)\n",
        "\n",
        "# train 데이터의 정확도, log_loss\n",
        "train_score=rf_run.score(X_train, Y_train)\n",
        "print('Train_Score : {}'.format(train_score))\n",
        "\n",
        "train_predict = rf_run.predict_proba(X_train)\n",
        "print(\"log_loss':{}\".format(log_loss(Y_train, train_predict)))\n",
        "\n",
        "# test 데이터의 정확도, log_loss\n",
        "test_score=rf_run.score(X_test, Y_test)\n",
        "print('Test_Score : {}'.format(test_score))\n",
        "\n",
        "y_predict = rf_run.predict_proba(X_test)\n",
        "print(\"log_loss':{}\".format(log_loss(Y_test, y_predict)))"
      ],
      "metadata": {
        "id": "M_yr6EL8eUIf",
        "colab": {
          "base_uri": "https://localhost:8080/"
        },
        "outputId": "23387f41-d16a-4eef-a917-861507bf5e24"
      },
      "execution_count": null,
      "outputs": [
        {
          "output_type": "stream",
          "name": "stdout",
          "text": [
            "Train_Score : 0.8436018957345972\n",
            "log_loss':1.5125798472965652\n",
            "Test_Score : 0.6338028169014085\n",
            "log_loss':1.8902288264298452\n"
          ]
        }
      ]
    },
    {
      "cell_type": "code",
      "source": [
        "#confusion_matrix\n",
        "from sklearn.metrics import confusion_matrix\n",
        "import seaborn as sns\n",
        "\n",
        "y_pre = rf_run.predict(X_test)\n",
        "cm = confusion_matrix(Y_test, y_pre)\n",
        "\n",
        "sns.heatmap(cm, annot=True, cmap='Blues')\n",
        "plt.xlabel('Predicted')\n",
        "\n",
        "plt.ylabel('True')\n",
        "plt.show()"
      ],
      "metadata": {
        "colab": {
          "base_uri": "https://localhost:8080/",
          "height": 454
        },
        "id": "QX6_wIkQfmjn",
        "outputId": "fd618aa6-84de-469a-da25-17d66858dd8d"
      },
      "execution_count": null,
      "outputs": [
        {
          "output_type": "display_data",
          "data": {
            "text/plain": [
              "<Figure size 640x480 with 2 Axes>"
            ],
            "image/png": "[encoded data removed]"
          },
          "metadata": {}
        }
      ]
    },
    {
      "cell_type": "code",
      "source": [
        "# 득점모델 변수 중요도\n",
        "import matplotlib.pyplot as plt\n",
        "import seaborn as sns\n",
        "%matplotlib inline\n",
        "\n",
        "train = pd.read_csv(\"keras_dataset_remaster.csv\") #칼럼 정리와 결측값과 중복값 제거된 데이터셋\n",
        "data = train.drop('작성경찰서명', axis=1).copy() #지역 예측(출력값)을 위한 colum 분리\n",
        "\n",
        "ftr_importances_values = rf_run.feature_importances_\n",
        "ftr_importances = pd.Series(ftr_importances_values, index=data.columns)\n",
        "ftr_top = ftr_importances.sort_values(ascending=False)[:20]\n",
        "\n",
        "plt.figure(figsize=(8, 6))\n",
        "sns.barplot(x=ftr_top, y=ftr_top.index)\n",
        "plt.rc('font', family='NanumBarunGothic')\n",
        "plt.show()"
      ],
      "metadata": {
        "colab": {
          "base_uri": "https://localhost:8080/",
          "height": 522
        },
        "id": "rSIIVZNNjJSM",
        "outputId": "0ad934cf-1ee4-4b6b-abe3-3557244ac37e"
      },
      "execution_count": null,
      "outputs": [
        {
          "output_type": "display_data",
          "data": {
            "text/plain": [
              "<Figure size 800x600 with 1 Axes>"
            ],
            "image/png": "[encoded data removed]"
          },
          "metadata": {}
        }
      ]
    },
    {
      "cell_type": "markdown",
      "source": [
        "# 전체 컬럼 학습"
      ],
      "metadata": {
        "id": "JZdkGF-ACbSa"
      }
    },
    {
      "cell_type": "code",
      "source": [
        "#필요 라이브러리 호출\n",
        "from sklearn.model_selection import train_test_split\n",
        "from sklearn.preprocessing import LabelEncoder\n",
        "from tensorflow import keras\n",
        "import pandas as pd\n",
        "from sklearn import preprocessing\n",
        "\n",
        "#데이터 전처리\n",
        "def Data_func():\n",
        "  train = df\n",
        "  le2=LabelEncoder()\n",
        "  data = train.drop('작성경찰서명', axis=1).values\n",
        "  target = le2.fit_transform(train['작성경찰서명'].values)  # Label Encoding\n",
        "\n",
        "  X_train, X_test, y_train, y_test = train_test_split(data, target, test_size=0.25, stratify=target, random_state=2018)\n",
        "  #데이터셋 Train, Test 7.5:2.5 비율로 분리 -> 32개의 지역이 다 나오기 위해\n",
        "\n",
        "  #MinMaxScaler 함수를 통한 데이터셋 정규화\n",
        "  scaler = preprocessing.MinMaxScaler()\n",
        "  X_train = scaler.fit_transform(X_train)\n",
        "  X_test = scaler.transform(X_test)\n",
        "\n",
        "  return (X_train, y_train),(X_test, y_test), le2.classes_"
      ],
      "metadata": {
        "id": "zNfgwkIpCbSb"
      },
      "execution_count": null,
      "outputs": []
    },
    {
      "cell_type": "code",
      "source": [
        "#필요 라이브러리 호출\n",
        "import matplotlib.pyplot as plt\n",
        "import numpy as np\n",
        "from sklearn.ensemble import RandomForestClassifier\n",
        "import math\n",
        "import tensorflow as tf\n",
        "\n",
        "(X_train, Y_train), (X_test, Y_test), label_classes = Data_func()\n",
        "\n",
        "# RandomForest 모델로 학습\n",
        "# 하이퍼파라미터 튜닝 전\n",
        "rf_test = RandomForestClassifier(random_state=2, n_jobs=-1)\n",
        "rf_test.fit(X_train, Y_train)\n",
        "\n",
        "# train 데이터의 정확도\n",
        "train_score=rf_test.score(X_train, Y_train)\n",
        "print('Train_Score : {}'.format(train_score))\n",
        "\n",
        "# test 데이터의 정확도\n",
        "test_score=rf_test.score(X_test, Y_test)\n",
        "print('Test_Score : {}'.format(test_score))"
      ],
      "metadata": {
        "colab": {
          "base_uri": "https://localhost:8080/"
        },
        "outputId": "1a371bab-0c02-413c-b48e-513000713fbe",
        "id": "T-r9kNSbCbSb"
      },
      "execution_count": null,
      "outputs": [
        {
          "output_type": "stream",
          "name": "stdout",
          "text": [
            "Train_Score : 1.0\n",
            "Test_Score : 0.8450704225352113\n"
          ]
        }
      ]
    },
    {
      "cell_type": "markdown",
      "source": [
        "## 하이퍼파라미터\n",
        "- max_depth: 깊이가 깊어지면 과적합될 수 있으므로 적절히 제어 필요\n",
        "- max_features: 최적의 분할을 위해 고려할 최대 feature 개수\n",
        "- min_samples_split: 작게 설정할 수록 분할 노드가 많아져 과적합 가능성 증가\n",
        "- n_estimators: 결정 트리의 개수를 지정: 개수를 늘리면 성능이 좋아지는 것에 비해 시간이 걸린다.\n"
      ],
      "metadata": {
        "id": "IQoZtsbQCbSb"
      }
    },
    {
      "cell_type": "code",
      "source": [
        "# RandomForest 모델로 학습\n",
        "# 하이퍼파라미터 튜닝 전\n",
        "rf_run = RandomForestClassifier(random_state=2, max_depth= 5, max_features = 30, min_samples_split=17, n_estimators=120, n_jobs=-1)\n",
        "rf_run.fit(X_train, Y_train)\n",
        "\n",
        "# train 데이터의 정확도, log_loss\n",
        "train_score=rf_run.score(X_train, Y_train)\n",
        "print('Train_Score : {}'.format(train_score))\n",
        "\n",
        "\n",
        "# test 데이터의 정확도, log_loss\n",
        "test_score=rf_run.score(X_test, Y_test)\n",
        "print('Test_Score : {}'.format(test_score))"
      ],
      "metadata": {
        "colab": {
          "base_uri": "https://localhost:8080/"
        },
        "outputId": "32816305-7f11-4178-f45f-eb4b5ea303ef",
        "id": "tZ6CTaGxCbSc"
      },
      "execution_count": null,
      "outputs": [
        {
          "output_type": "stream",
          "name": "stdout",
          "text": [
            "Train_Score : 0.933649289099526\n",
            "Test_Score : 0.676056338028169\n"
          ]
        }
      ]
    },
    {
      "cell_type": "code",
      "source": [
        "label_classes"
      ],
      "metadata": {
        "colab": {
          "base_uri": "https://localhost:8080/"
        },
        "id": "TAaLUKWv2jLK",
        "outputId": "a159858e-cbd0-41bc-9800-21bb7ac9f11a"
      },
      "execution_count": null,
      "outputs": [
        {
          "output_type": "execute_result",
          "data": {
            "text/plain": [
              "array(['서울강남경찰서', '서울강동경찰서', '서울강북경찰서', '서울강서경찰서', '서울관악경찰서', '서울광진경찰서',\n",
              "       '서울구로경찰서', '서울금천경찰서', '서울남대문경찰서', '서울노원경찰서', '서울도봉경찰서', '서울동대문경찰서',\n",
              "       '서울동작경찰서', '서울마포경찰서', '서울방배경찰서', '서울서대문경찰서', '서울서부경찰서', '서울서초경찰서',\n",
              "       '서울성동경찰서', '서울성북경찰서', '서울송파경찰서', '서울수서경찰서', '서울양천경찰서', '서울영등포경찰서',\n",
              "       '서울용산경찰서', '서울은평경찰서', '서울종로경찰서', '서울종암경찰서', '서울중랑경찰서', '서울중부경찰서',\n",
              "       '서울지방경찰청', '서울혜화경찰서'], dtype=object)"
            ]
          },
          "metadata": {},
          "execution_count": 31
        }
      ]
    },
    {
      "cell_type": "code",
      "source": [
        "from sklearn.metrics import classification_report\n",
        "pred1 = rf_run.predict(X_test)\n",
        "print(classification_report(Y_test, pred1, zero_division=1.0, target_names=label_classes))"
      ],
      "metadata": {
        "colab": {
          "base_uri": "https://localhost:8080/"
        },
        "id": "ALmla4DJyCbX",
        "outputId": "cb5121c4-a1a0-47dd-d450-97373d286d52"
      },
      "execution_count": null,
      "outputs": [
        {
          "output_type": "stream",
          "name": "stdout",
          "text": [
            "              precision    recall  f1-score   support\n",
            "\n",
            "     서울강남경찰서       1.00      1.00      1.00         2\n",
            "     서울강동경찰서       0.22      1.00      0.36         2\n",
            "     서울강북경찰서       1.00      0.33      0.50         3\n",
            "     서울강서경찰서       1.00      1.00      1.00         2\n",
            "     서울관악경찰서       1.00      1.00      1.00         2\n",
            "     서울광진경찰서       0.33      0.50      0.40         2\n",
            "     서울구로경찰서       1.00      0.33      0.50         3\n",
            "     서울금천경찰서       0.67      1.00      0.80         2\n",
            "    서울남대문경찰서       0.67      1.00      0.80         2\n",
            "     서울노원경찰서       1.00      0.00      0.00         3\n",
            "     서울도봉경찰서       0.40      1.00      0.57         2\n",
            "    서울동대문경찰서       1.00      1.00      1.00         2\n",
            "     서울동작경찰서       1.00      0.00      0.00         2\n",
            "     서울마포경찰서       1.00      0.50      0.67         2\n",
            "     서울방배경찰서       0.67      1.00      0.80         2\n",
            "    서울서대문경찰서       0.25      0.50      0.33         2\n",
            "     서울서부경찰서       1.00      1.00      1.00         2\n",
            "     서울서초경찰서       1.00      1.00      1.00         2\n",
            "     서울성동경찰서       0.50      0.50      0.50         2\n",
            "     서울성북경찰서       1.00      0.50      0.67         2\n",
            "     서울송파경찰서       0.67      0.67      0.67         3\n",
            "     서울수서경찰서       1.00      1.00      1.00         3\n",
            "     서울양천경찰서       1.00      1.00      1.00         2\n",
            "    서울영등포경찰서       0.67      0.67      0.67         3\n",
            "     서울용산경찰서       0.50      0.50      0.50         2\n",
            "     서울은평경찰서       0.00      0.00      0.00         2\n",
            "     서울종로경찰서       1.00      1.00      1.00         3\n",
            "     서울종암경찰서       1.00      1.00      1.00         2\n",
            "     서울중랑경찰서       1.00      0.50      0.67         2\n",
            "     서울중부경찰서       1.00      0.67      0.80         3\n",
            "     서울지방경찰청       1.00      0.00      0.00         1\n",
            "     서울혜화경찰서       1.00      0.50      0.67         2\n",
            "\n",
            "    accuracy                           0.68        71\n",
            "   macro avg       0.80      0.68      0.65        71\n",
            "weighted avg       0.81      0.68      0.66        71\n",
            "\n"
          ]
        }
      ]
    },
    {
      "cell_type": "code",
      "source": [
        "#confusion_matrix\n",
        "from sklearn.metrics import confusion_matrix\n",
        "import seaborn as sns\n",
        "\n",
        "y_pre = rf_run.predict(X_test)\n",
        "cm = confusion_matrix(Y_test, y_pre)\n",
        "\n",
        "sns.heatmap(cm, annot=True, cmap='Blues')\n",
        "plt.xlabel('Predicted')\n",
        "\n",
        "plt.ylabel('True')\n",
        "plt.show()"
      ],
      "metadata": {
        "colab": {
          "base_uri": "https://localhost:8080/",
          "height": 454
        },
        "outputId": "3120fdd5-439d-4c61-a6b8-2af6de0e5761",
        "id": "BkPouk2-CbSc"
      },
      "execution_count": null,
      "outputs": [
        {
          "output_type": "display_data",
          "data": {
            "text/plain": [
              "<Figure size 640x480 with 2 Axes>"
            ],
            "image/png": "[encoded data removed]"
          },
          "metadata": {}
        }
      ]
    },
    {
      "cell_type": "code",
      "source": [
        "from sklearn.model_selection import GridSearchCV\n",
        "\n",
        "params = {\n",
        "    'max_depth': [10, 30, 50],  # 범위값을 지정\n",
        "    'min_samples_split': [5, 7, 20]\n",
        "          }\n",
        "\n",
        "# 객체 생성\n",
        "rf3 = RandomForestClassifier(random_state=10)\n",
        "\n",
        "# 최적의 하이퍼 파라미터를 찾는 객체 생성\n",
        "grid_df = GridSearchCV(rf3, params, cv=2)  # cv: 데이터 교차검증 수\n",
        "\n",
        "# 학습\n",
        "grid_df.fit(X_train, Y_train)\n",
        "\n",
        "# best_params_: 최적의 성능을 만들 하이퍼 파라미터를 알려줌(params로 설정해놓은 범위 내에서)\n",
        "print(f'best params: {grid_df.best_params_ }')\n",
        "print(f'best score: {grid_df.best_score_ }')"
      ],
      "metadata": {
        "colab": {
          "base_uri": "https://localhost:8080/"
        },
        "id": "E5C2bBQm3Kpb",
        "outputId": "54fc71dc-5ae6-497b-dfde-2d99e8ae6a3c"
      },
      "execution_count": null,
      "outputs": [
        {
          "output_type": "stream",
          "name": "stdout",
          "text": [
            "best params: {'max_depth': 30, 'min_samples_split': 5}\n",
            "best score: 0.7063342318059299\n"
          ]
        }
      ]
    },
    {
      "cell_type": "code",
      "source": [
        "# 최적의 하이퍼 파라미터 적용\n",
        "rf3 = RandomForestClassifier(min_samples_split=5, max_depth=30, random_state=10)\n",
        "rf3.fit(X_train, Y_train)\n",
        "\n",
        "train_score=rf3.score(X_train, Y_train)\n",
        "print('Train_Score : {}'.format(train_score))\n",
        "\n",
        "test_score=rf3.score(X_test, Y_test)\n",
        "print('Test_Score : {}'.format(test_score))"
      ],
      "metadata": {
        "colab": {
          "base_uri": "https://localhost:8080/"
        },
        "id": "xLM6khQ93cvx",
        "outputId": "f0c1a359-c23f-4c17-e8a9-e6eb4b437b82"
      },
      "execution_count": null,
      "outputs": [
        {
          "output_type": "stream",
          "name": "stdout",
          "text": [
            "Train_Score : 1.0\n",
            "Test_Score : 0.8591549295774648\n"
          ]
        }
      ]
    },
    {
      "cell_type": "code",
      "source": [
        "pred2 = rf3.predict(X_test)\n",
        "print(classification_report(Y_test, pred2, zero_division=1.0, target_names=label_classes))"
      ],
      "metadata": {
        "colab": {
          "base_uri": "https://localhost:8080/"
        },
        "id": "4pn-FC8q6bzo",
        "outputId": "9aa1a04d-fe99-4cc5-9eb6-ea0cd8004eaf"
      },
      "execution_count": null,
      "outputs": [
        {
          "output_type": "stream",
          "name": "stdout",
          "text": [
            "              precision    recall  f1-score   support\n",
            "\n",
            "     서울강남경찰서       1.00      1.00      1.00         2\n",
            "     서울강동경찰서       0.50      1.00      0.67         2\n",
            "     서울강북경찰서       1.00      0.67      0.80         3\n",
            "     서울강서경찰서       1.00      1.00      1.00         2\n",
            "     서울관악경찰서       1.00      1.00      1.00         2\n",
            "     서울광진경찰서       1.00      1.00      1.00         2\n",
            "     서울구로경찰서       1.00      1.00      1.00         3\n",
            "     서울금천경찰서       1.00      1.00      1.00         2\n",
            "    서울남대문경찰서       0.67      1.00      0.80         2\n",
            "     서울노원경찰서       1.00      0.67      0.80         3\n",
            "     서울도봉경찰서       0.50      1.00      0.67         2\n",
            "    서울동대문경찰서       1.00      1.00      1.00         2\n",
            "     서울동작경찰서       1.00      0.50      0.67         2\n",
            "     서울마포경찰서       1.00      0.50      0.67         2\n",
            "     서울방배경찰서       1.00      1.00      1.00         2\n",
            "    서울서대문경찰서       0.67      1.00      0.80         2\n",
            "     서울서부경찰서       1.00      1.00      1.00         2\n",
            "     서울서초경찰서       1.00      1.00      1.00         2\n",
            "     서울성동경찰서       0.67      1.00      0.80         2\n",
            "     서울성북경찰서       1.00      0.50      0.67         2\n",
            "     서울송파경찰서       1.00      0.67      0.80         3\n",
            "     서울수서경찰서       1.00      1.00      1.00         3\n",
            "     서울양천경찰서       1.00      1.00      1.00         2\n",
            "    서울영등포경찰서       0.75      1.00      0.86         3\n",
            "     서울용산경찰서       0.67      1.00      0.80         2\n",
            "     서울은평경찰서       0.00      0.00      0.00         2\n",
            "     서울종로경찰서       1.00      1.00      1.00         3\n",
            "     서울종암경찰서       1.00      1.00      1.00         2\n",
            "     서울중랑경찰서       1.00      1.00      1.00         2\n",
            "     서울중부경찰서       1.00      0.67      0.80         3\n",
            "     서울지방경찰청       1.00      1.00      1.00         1\n",
            "     서울혜화경찰서       1.00      0.50      0.67         2\n",
            "\n",
            "    accuracy                           0.86        71\n",
            "   macro avg       0.89      0.86      0.85        71\n",
            "weighted avg       0.90      0.86      0.85        71\n",
            "\n"
          ]
        }
      ]
    },
    {
      "cell_type": "code",
      "source": [
        "y_pre = rf3.predict(X_test)\n",
        "cm = confusion_matrix(Y_test, y_pre)\n",
        "\n",
        "sns.heatmap(cm, annot=True, cmap='Blues')\n",
        "plt.xlabel('Predicted')\n",
        "\n",
        "plt.ylabel('True')\n",
        "plt.show()"
      ],
      "metadata": {
        "colab": {
          "base_uri": "https://localhost:8080/",
          "height": 454
        },
        "id": "9XsOOpCm6na0",
        "outputId": "436820bd-f0ef-41c0-bdea-f0704ae376a7"
      },
      "execution_count": null,
      "outputs": [
        {
          "output_type": "display_data",
          "data": {
            "text/plain": [
              "<Figure size 640x480 with 2 Axes>"
            ],
            "image/png": "[encoded data removed]"
          },
          "metadata": {}
        }
      ]
    },
    {
      "cell_type": "code",
      "source": [
        "# 득점모델 변수 중요도\n",
        "import matplotlib.pyplot as plt\n",
        "import seaborn as sns\n",
        "%matplotlib inline\n",
        "\n",
        "train = pd.read_csv(\"keras_dataset.csv\") #칼럼 정리와 결측값과 중복값 제거된 데이터셋\n",
        "data = train.drop('작성경찰서명', axis=1).copy() #지역 예측(출력값)을 위한 colum 분리\n",
        "\n",
        "ftr_importances_values = rf3.feature_importances_\n",
        "ftr_importances = pd.Series(ftr_importances_values, index=data.columns)\n",
        "ftr_top = ftr_importances.sort_values(ascending=False)[:20]\n",
        "colors = sns.color_palette('hls',20)\n",
        "plt.figure(figsize=(8, 6))\n",
        "sns.barplot(x=ftr_top, y=ftr_top.index, hue=colors, legend=False)\n",
        "plt.xlabel('중요도')\n",
        "plt.ylabel('컬럼')\n",
        "plt.rc('font', family='NanumBarunGothic')\n",
        "plt.show()"
      ],
      "metadata": {
        "colab": {
          "base_uri": "https://localhost:8080/",
          "height": 542
        },
        "outputId": "89e0bd85-a0ae-4f40-f9ba-f410a23a284c",
        "id": "i7r0N0JJCbSc"
      },
      "execution_count": null,
      "outputs": [
        {
          "output_type": "display_data",
          "data": {
            "text/plain": [
              "<Figure size 800x600 with 1 Axes>"
            ],
            "image/png": "[encoded data removed]"
          },
          "metadata": {}
        }
      ]
    }
  ]
}